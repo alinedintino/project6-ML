{
 "cells": [
  {
   "cell_type": "markdown",
   "metadata": {},
   "source": [
    "## Customer Segmentation and lifetime value prediciton"
   ]
  },
  {
   "cell_type": "markdown",
   "metadata": {},
   "source": [
    "## 1. Exploratory Data Analysis"
   ]
  },
  {
   "cell_type": "code",
   "execution_count": 1,
   "metadata": {},
   "outputs": [],
   "source": [
    "# Import libraries\n",
    "from datetime import datetime, timedelta, date\n",
    "import pandas as pd\n",
    "import numpy as np\n",
    "from scipy import stats\n",
    "\n",
    "# Plotting\n",
    "import matplotlib.pyplot as plt\n",
    "%matplotlib inline\n",
    "import seaborn as sns\n",
    "\n",
    "# Model\n",
    "from sklearn.cluster import KMeans\n",
    "from sklearn.model_selection import KFold, cross_val_score, train_test_split\n",
    "import xgboost as xgb\n",
    "from sklearn.metrics import classification_report, confusion_matrix, mean_squared_error\n",
    "from sklearn.preprocessing import LabelEncoder\n",
    "\n",
    "\n",
    "import warnings\n",
    "warnings.filterwarnings(action='ignore')"
   ]
  },
  {
   "cell_type": "markdown",
   "metadata": {},
   "source": [
    "### Plotting functions for analysis"
   ]
  },
  {
   "cell_type": "code",
   "execution_count": 2,
   "metadata": {},
   "outputs": [],
   "source": [
    "# Plotting function for analysis\n",
    "\n",
    "def format_spines(ax, right_border=True):\n",
    "    \n",
    "    ax.spines['bottom'].set_color('#666666')\n",
    "    ax.spines['left'].set_color('#666666')\n",
    "    ax.spines['top'].set_visible(False)\n",
    "    if right_border:\n",
    "        ax.spines['right'].set_color('#FFFFFF')\n",
    "    else:\n",
    "        ax.spines['right'].set_color('#FFFFFF')\n",
    "    ax.patch.set_facecolor('#FFFFFF')\n",
    "\n",
    "def count_plot(feature, df, colors='#3bc57fff', hue=False, ax=None, title=''):\n",
    "    \n",
    "    # Preparing variables\n",
    "    ncount = len(df)\n",
    "    if hue != False:\n",
    "        ax = sns.countplot(x=feature, data=df, palette=colors, hue=hue, ax=ax)\n",
    "    else:\n",
    "        ax = sns.countplot(x=feature, data=df, palette=colors, ax=ax)\n",
    "        \n",
    "    format_spines(ax)\n",
    "    \n",
    "    # Setting percentage\n",
    "    for p in ax.patches:\n",
    "        x=p.get_bbox().get_points()[:,0]\n",
    "        y=p.get_bbox().get_points()[1,1]\n",
    "#        ax.annotate('{:.1f}%'.format(100.*y/ncount), (x.mean(), y), \n",
    "#                ha='center', va='bottom') # set the alignment of the text\n",
    "        ax.annotate(y, (x.mean(), y), \n",
    "                ha='center', va='bottom') # set the alignment of the text\n",
    "    \n",
    "    # Final configuration\n",
    "    if not hue:\n",
    "        ax.set_title(df[feature].describe().name + ' Analysis', size=13, pad=15)\n",
    "    else:\n",
    "        ax.set_title(df[feature].describe().name + ' Analysis by ' + hue, size=13, pad=15)  \n",
    "    if title != '':\n",
    "        ax.set_title(title)       \n",
    "    plt.tight_layout()\n",
    "    \n",
    "    \n",
    "def bar_plot(x, y, df, colors='Greens_d', hue=False, ax=None, value=False, title=''):\n",
    "    \n",
    "    # Preparing variables\n",
    "    try:\n",
    "        ncount = sum(df[y])\n",
    "    except:\n",
    "        ncount = sum(df[x])\n",
    "    #fig, ax = plt.subplots()\n",
    "    if hue != False:\n",
    "        ax = sns.barplot(x=x, y=y, data=df, palette=colors, hue=hue, ax=ax, ci=None)\n",
    "    else:\n",
    "        ax = sns.barplot(x=x, y=y, data=df, palette=colors, ax=ax, ci=None)\n",
    "\n",
    "    # Setting borders\n",
    "    format_spines(ax)\n",
    "\n",
    "    # Setting percentage\n",
    "    for p in ax.patches:\n",
    "        xp=p.get_bbox().get_points()[:,0]\n",
    "        yp=p.get_bbox().get_points()[1,1]\n",
    "        if value:\n",
    "            ax.annotate('{:.2f}k'.format(yp/1000), (xp.mean(), yp), \n",
    "                    ha='center', va='bottom') # set the alignment of the text\n",
    "        else:\n",
    "            ax.annotate('{:.1f}%'.format(100.*yp/ncount), (xp.mean(), yp), \n",
    "                    ha='center', va='bottom') # set the alignment of the text\n",
    "    if not hue:\n",
    "        ax.set_title(df[x].describe().name + ' Analysis', size=12, pad=15)\n",
    "    else:\n",
    "        ax.set_title(df[x].describe().name + ' Analysis by ' + hue, size=12, pad=15)\n",
    "    if title != '':\n",
    "        ax.set_title(title)  \n",
    "    plt.tight_layout()\n",
    "    \n",
    "    \n",
    "def categorical_plot(cols_cat, axs, df):\n",
    "    \n",
    "    idx_row = 0\n",
    "    for col in cols_cat:\n",
    "        # Returning column index\n",
    "        idx_col = cols_cat.index(col)\n",
    "\n",
    "        # Verifying brake line in figure (second row)\n",
    "        if idx_col >= 3:\n",
    "            idx_col -= 3\n",
    "            idx_row = 1\n",
    "\n",
    "        # Plot params\n",
    "        names = df[col].value_counts().index\n",
    "        heights = df[col].value_counts().values\n",
    "\n",
    "        # Bar chart\n",
    "        axs[idx_row, idx_col].bar(names, heights, color='navy')\n",
    "        if (idx_row, idx_col) == (0, 2):\n",
    "            y_pos = np.arange(len(names))\n",
    "            axs[idx_row, idx_col].tick_params(axis='x', labelrotation=30)\n",
    "        if (idx_row, idx_col) == (1, 1):\n",
    "            y_pos = np.arange(len(names))\n",
    "            axs[idx_row, idx_col].tick_params(axis='x', labelrotation=90)\n",
    "\n",
    "        total = df[col].value_counts().sum()\n",
    "        axs[idx_row, idx_col].patch.set_facecolor('#FFFFFF')\n",
    "        format_spines(axs[idx_row, idx_col], right_border=False)\n",
    "        for p in axs[idx_row, idx_col].patches:\n",
    "            w, h = p.get_width(), p.get_height()\n",
    "            x, y = p.get_xy()\n",
    "            axs[idx_row, idx_col].annotate('{:.1%}'.format(h/1000), (p.get_x()+.29*w,\n",
    "                                            p.get_y()+h+20), color='k')\n",
    "\n",
    "        # Plot configuration\n",
    "        axs[idx_row, idx_col].set_title(col, size=12)\n",
    "        axs[idx_row, idx_col].set_ylim(0, heights.max()+120)"
   ]
  },
  {
   "cell_type": "code",
   "execution_count": 3,
   "metadata": {},
   "outputs": [],
   "source": [
    "df = pd.read_csv('./data/Online_Retail.csv')"
   ]
  },
  {
   "cell_type": "code",
   "execution_count": 4,
   "metadata": {},
   "outputs": [
    {
     "name": "stdout",
     "output_type": "stream",
     "text": [
      "<class 'pandas.core.frame.DataFrame'>\n",
      "RangeIndex: 541909 entries, 0 to 541908\n",
      "Data columns (total 8 columns):\n",
      " #   Column       Non-Null Count   Dtype  \n",
      "---  ------       --------------   -----  \n",
      " 0   InvoiceNo    541909 non-null  object \n",
      " 1   StockCode    541909 non-null  object \n",
      " 2   Description  540455 non-null  object \n",
      " 3   Quantity     541909 non-null  int64  \n",
      " 4   InvoiceDate  541909 non-null  object \n",
      " 5   UnitPrice    541909 non-null  float64\n",
      " 6   CustomerID   406829 non-null  float64\n",
      " 7   Country      541909 non-null  object \n",
      "dtypes: float64(2), int64(1), object(5)\n",
      "memory usage: 33.1+ MB\n"
     ]
    }
   ],
   "source": [
    "df.info()"
   ]
  },
  {
   "cell_type": "code",
   "execution_count": 5,
   "metadata": {},
   "outputs": [
    {
     "data": {
      "text/html": [
       "<div>\n",
       "<style scoped>\n",
       "    .dataframe tbody tr th:only-of-type {\n",
       "        vertical-align: middle;\n",
       "    }\n",
       "\n",
       "    .dataframe tbody tr th {\n",
       "        vertical-align: top;\n",
       "    }\n",
       "\n",
       "    .dataframe thead th {\n",
       "        text-align: right;\n",
       "    }\n",
       "</style>\n",
       "<table border=\"1\" class=\"dataframe\">\n",
       "  <thead>\n",
       "    <tr style=\"text-align: right;\">\n",
       "      <th></th>\n",
       "      <th>Counts</th>\n",
       "      <th>Percentage</th>\n",
       "    </tr>\n",
       "  </thead>\n",
       "  <tbody>\n",
       "    <tr>\n",
       "      <th>CustomerID</th>\n",
       "      <td>135080</td>\n",
       "      <td>24.926694</td>\n",
       "    </tr>\n",
       "    <tr>\n",
       "      <th>Description</th>\n",
       "      <td>1454</td>\n",
       "      <td>0.268311</td>\n",
       "    </tr>\n",
       "    <tr>\n",
       "      <th>Country</th>\n",
       "      <td>0</td>\n",
       "      <td>0.000000</td>\n",
       "    </tr>\n",
       "    <tr>\n",
       "      <th>UnitPrice</th>\n",
       "      <td>0</td>\n",
       "      <td>0.000000</td>\n",
       "    </tr>\n",
       "    <tr>\n",
       "      <th>InvoiceDate</th>\n",
       "      <td>0</td>\n",
       "      <td>0.000000</td>\n",
       "    </tr>\n",
       "    <tr>\n",
       "      <th>Quantity</th>\n",
       "      <td>0</td>\n",
       "      <td>0.000000</td>\n",
       "    </tr>\n",
       "    <tr>\n",
       "      <th>StockCode</th>\n",
       "      <td>0</td>\n",
       "      <td>0.000000</td>\n",
       "    </tr>\n",
       "    <tr>\n",
       "      <th>InvoiceNo</th>\n",
       "      <td>0</td>\n",
       "      <td>0.000000</td>\n",
       "    </tr>\n",
       "  </tbody>\n",
       "</table>\n",
       "</div>"
      ],
      "text/plain": [
       "             Counts  Percentage\n",
       "CustomerID   135080   24.926694\n",
       "Description    1454    0.268311\n",
       "Country           0    0.000000\n",
       "UnitPrice         0    0.000000\n",
       "InvoiceDate       0    0.000000\n",
       "Quantity          0    0.000000\n",
       "StockCode         0    0.000000\n",
       "InvoiceNo         0    0.000000"
      ]
     },
     "execution_count": 5,
     "metadata": {},
     "output_type": "execute_result"
    }
   ],
   "source": [
    "# Missing value counts and corresponding % against total observations\n",
    "missing_values = df.isnull().sum().sort_values(ascending = False)\n",
    "percentage = (df.isnull().sum()/df.isnull().count()*100).sort_values(ascending = False)\n",
    "pd.concat([missing_values, percentage], axis=1, keys=['Counts', 'Percentage'])"
   ]
  },
  {
   "cell_type": "raw",
   "metadata": {},
   "source": [
    "# Finding and removing outliers with interquartile range method\n",
    "\n",
    "# Calculate interquartile range\n",
    "Q1 = df.quantile(0.25)\n",
    "Q3 = df.quantile(0.75)\n",
    "IQR = Q3 - Q1\n",
    "print(IQR)\n",
    "\n",
    "df = df[~((df < (Q1 - 1.5 * IQR)) |(df > (Q3 + 1.5 * IQR))).any(axis=1)]\n",
    "print('\\n')\n",
    "print('df shape:' , df.shape)"
   ]
  },
  {
   "cell_type": "code",
   "execution_count": 6,
   "metadata": {},
   "outputs": [
    {
     "data": {
      "text/plain": [
       "InvoiceNo       object\n",
       "StockCode       object\n",
       "Description     object\n",
       "Quantity         int64\n",
       "InvoiceDate     object\n",
       "UnitPrice      float64\n",
       "CustomerID     float64\n",
       "Country         object\n",
       "dtype: object"
      ]
     },
     "execution_count": 6,
     "metadata": {},
     "output_type": "execute_result"
    }
   ],
   "source": [
    "df.dtypes"
   ]
  },
  {
   "cell_type": "code",
   "execution_count": 7,
   "metadata": {},
   "outputs": [],
   "source": [
    "# Converting date columns to datetime\n",
    "date_columns = ['InvoiceDate']\n",
    "for col in date_columns:\n",
    "    df[col] = pd.to_datetime(df[col])\n",
    "    \n",
    "# Filter UK data\n",
    "df = df.query(\"Country=='United Kingdom'\").reset_index(drop=True)\n",
    "\n",
    "# Creating user dataframe to keep Customer Id and new segmentation scores\n",
    "df_user = pd.DataFrame(df['CustomerID'].unique())\n",
    "df_user.columns = ['CustomerID']"
   ]
  },
  {
   "cell_type": "code",
   "execution_count": 8,
   "metadata": {},
   "outputs": [
    {
     "data": {
      "text/html": [
       "<div>\n",
       "<style scoped>\n",
       "    .dataframe tbody tr th:only-of-type {\n",
       "        vertical-align: middle;\n",
       "    }\n",
       "\n",
       "    .dataframe tbody tr th {\n",
       "        vertical-align: top;\n",
       "    }\n",
       "\n",
       "    .dataframe thead th {\n",
       "        text-align: right;\n",
       "    }\n",
       "</style>\n",
       "<table border=\"1\" class=\"dataframe\">\n",
       "  <thead>\n",
       "    <tr style=\"text-align: right;\">\n",
       "      <th></th>\n",
       "      <th>InvoiceNo</th>\n",
       "      <th>StockCode</th>\n",
       "      <th>Description</th>\n",
       "      <th>Quantity</th>\n",
       "      <th>InvoiceDate</th>\n",
       "      <th>UnitPrice</th>\n",
       "      <th>CustomerID</th>\n",
       "      <th>Country</th>\n",
       "    </tr>\n",
       "  </thead>\n",
       "  <tbody>\n",
       "    <tr>\n",
       "      <th>0</th>\n",
       "      <td>536365</td>\n",
       "      <td>85123A</td>\n",
       "      <td>WHITE HANGING HEART T-LIGHT HOLDER</td>\n",
       "      <td>6</td>\n",
       "      <td>2010-12-01 08:26:00</td>\n",
       "      <td>2.55</td>\n",
       "      <td>17850.0</td>\n",
       "      <td>United Kingdom</td>\n",
       "    </tr>\n",
       "    <tr>\n",
       "      <th>1</th>\n",
       "      <td>536365</td>\n",
       "      <td>71053</td>\n",
       "      <td>WHITE METAL LANTERN</td>\n",
       "      <td>6</td>\n",
       "      <td>2010-12-01 08:26:00</td>\n",
       "      <td>3.39</td>\n",
       "      <td>17850.0</td>\n",
       "      <td>United Kingdom</td>\n",
       "    </tr>\n",
       "    <tr>\n",
       "      <th>2</th>\n",
       "      <td>536365</td>\n",
       "      <td>84406B</td>\n",
       "      <td>CREAM CUPID HEARTS COAT HANGER</td>\n",
       "      <td>8</td>\n",
       "      <td>2010-12-01 08:26:00</td>\n",
       "      <td>2.75</td>\n",
       "      <td>17850.0</td>\n",
       "      <td>United Kingdom</td>\n",
       "    </tr>\n",
       "    <tr>\n",
       "      <th>3</th>\n",
       "      <td>536365</td>\n",
       "      <td>84029G</td>\n",
       "      <td>KNITTED UNION FLAG HOT WATER BOTTLE</td>\n",
       "      <td>6</td>\n",
       "      <td>2010-12-01 08:26:00</td>\n",
       "      <td>3.39</td>\n",
       "      <td>17850.0</td>\n",
       "      <td>United Kingdom</td>\n",
       "    </tr>\n",
       "    <tr>\n",
       "      <th>4</th>\n",
       "      <td>536365</td>\n",
       "      <td>84029E</td>\n",
       "      <td>RED WOOLLY HOTTIE WHITE HEART.</td>\n",
       "      <td>6</td>\n",
       "      <td>2010-12-01 08:26:00</td>\n",
       "      <td>3.39</td>\n",
       "      <td>17850.0</td>\n",
       "      <td>United Kingdom</td>\n",
       "    </tr>\n",
       "  </tbody>\n",
       "</table>\n",
       "</div>"
      ],
      "text/plain": [
       "  InvoiceNo StockCode                          Description  Quantity  \\\n",
       "0    536365    85123A   WHITE HANGING HEART T-LIGHT HOLDER         6   \n",
       "1    536365     71053                  WHITE METAL LANTERN         6   \n",
       "2    536365    84406B       CREAM CUPID HEARTS COAT HANGER         8   \n",
       "3    536365    84029G  KNITTED UNION FLAG HOT WATER BOTTLE         6   \n",
       "4    536365    84029E       RED WOOLLY HOTTIE WHITE HEART.         6   \n",
       "\n",
       "          InvoiceDate  UnitPrice  CustomerID         Country  \n",
       "0 2010-12-01 08:26:00       2.55     17850.0  United Kingdom  \n",
       "1 2010-12-01 08:26:00       3.39     17850.0  United Kingdom  \n",
       "2 2010-12-01 08:26:00       2.75     17850.0  United Kingdom  \n",
       "3 2010-12-01 08:26:00       3.39     17850.0  United Kingdom  \n",
       "4 2010-12-01 08:26:00       3.39     17850.0  United Kingdom  "
      ]
     },
     "execution_count": 8,
     "metadata": {},
     "output_type": "execute_result"
    }
   ],
   "source": [
    "df.head()"
   ]
  },
  {
   "cell_type": "code",
   "execution_count": 9,
   "metadata": {},
   "outputs": [
    {
     "data": {
      "text/html": [
       "<div>\n",
       "<style scoped>\n",
       "    .dataframe tbody tr th:only-of-type {\n",
       "        vertical-align: middle;\n",
       "    }\n",
       "\n",
       "    .dataframe tbody tr th {\n",
       "        vertical-align: top;\n",
       "    }\n",
       "\n",
       "    .dataframe thead th {\n",
       "        text-align: right;\n",
       "    }\n",
       "</style>\n",
       "<table border=\"1\" class=\"dataframe\">\n",
       "  <thead>\n",
       "    <tr style=\"text-align: right;\">\n",
       "      <th></th>\n",
       "      <th>InvoiceNo</th>\n",
       "      <th>StockCode</th>\n",
       "      <th>Description</th>\n",
       "      <th>Quantity</th>\n",
       "      <th>InvoiceDate</th>\n",
       "      <th>UnitPrice</th>\n",
       "      <th>CustomerID</th>\n",
       "      <th>Country</th>\n",
       "      <th>YearMonth</th>\n",
       "    </tr>\n",
       "  </thead>\n",
       "  <tbody>\n",
       "    <tr>\n",
       "      <th>0</th>\n",
       "      <td>536365</td>\n",
       "      <td>85123A</td>\n",
       "      <td>WHITE HANGING HEART T-LIGHT HOLDER</td>\n",
       "      <td>6</td>\n",
       "      <td>2010-12-01 08:26:00</td>\n",
       "      <td>2.55</td>\n",
       "      <td>17850.0</td>\n",
       "      <td>United Kingdom</td>\n",
       "      <td>2010-12</td>\n",
       "    </tr>\n",
       "    <tr>\n",
       "      <th>1</th>\n",
       "      <td>536365</td>\n",
       "      <td>71053</td>\n",
       "      <td>WHITE METAL LANTERN</td>\n",
       "      <td>6</td>\n",
       "      <td>2010-12-01 08:26:00</td>\n",
       "      <td>3.39</td>\n",
       "      <td>17850.0</td>\n",
       "      <td>United Kingdom</td>\n",
       "      <td>2010-12</td>\n",
       "    </tr>\n",
       "    <tr>\n",
       "      <th>2</th>\n",
       "      <td>536365</td>\n",
       "      <td>84406B</td>\n",
       "      <td>CREAM CUPID HEARTS COAT HANGER</td>\n",
       "      <td>8</td>\n",
       "      <td>2010-12-01 08:26:00</td>\n",
       "      <td>2.75</td>\n",
       "      <td>17850.0</td>\n",
       "      <td>United Kingdom</td>\n",
       "      <td>2010-12</td>\n",
       "    </tr>\n",
       "    <tr>\n",
       "      <th>3</th>\n",
       "      <td>536365</td>\n",
       "      <td>84029G</td>\n",
       "      <td>KNITTED UNION FLAG HOT WATER BOTTLE</td>\n",
       "      <td>6</td>\n",
       "      <td>2010-12-01 08:26:00</td>\n",
       "      <td>3.39</td>\n",
       "      <td>17850.0</td>\n",
       "      <td>United Kingdom</td>\n",
       "      <td>2010-12</td>\n",
       "    </tr>\n",
       "    <tr>\n",
       "      <th>4</th>\n",
       "      <td>536365</td>\n",
       "      <td>84029E</td>\n",
       "      <td>RED WOOLLY HOTTIE WHITE HEART.</td>\n",
       "      <td>6</td>\n",
       "      <td>2010-12-01 08:26:00</td>\n",
       "      <td>3.39</td>\n",
       "      <td>17850.0</td>\n",
       "      <td>United Kingdom</td>\n",
       "      <td>2010-12</td>\n",
       "    </tr>\n",
       "  </tbody>\n",
       "</table>\n",
       "</div>"
      ],
      "text/plain": [
       "  InvoiceNo StockCode                          Description  Quantity  \\\n",
       "0    536365    85123A   WHITE HANGING HEART T-LIGHT HOLDER         6   \n",
       "1    536365     71053                  WHITE METAL LANTERN         6   \n",
       "2    536365    84406B       CREAM CUPID HEARTS COAT HANGER         8   \n",
       "3    536365    84029G  KNITTED UNION FLAG HOT WATER BOTTLE         6   \n",
       "4    536365    84029E       RED WOOLLY HOTTIE WHITE HEART.         6   \n",
       "\n",
       "          InvoiceDate  UnitPrice  CustomerID         Country YearMonth  \n",
       "0 2010-12-01 08:26:00       2.55     17850.0  United Kingdom   2010-12  \n",
       "1 2010-12-01 08:26:00       3.39     17850.0  United Kingdom   2010-12  \n",
       "2 2010-12-01 08:26:00       2.75     17850.0  United Kingdom   2010-12  \n",
       "3 2010-12-01 08:26:00       3.39     17850.0  United Kingdom   2010-12  \n",
       "4 2010-12-01 08:26:00       3.39     17850.0  United Kingdom   2010-12  "
      ]
     },
     "execution_count": 9,
     "metadata": {},
     "output_type": "execute_result"
    }
   ],
   "source": [
    "# Create YearMonth Column\n",
    "df['YearMonth'] = df['InvoiceDate'].dt.strftime('%Y-%m')\n",
    "df.head()"
   ]
  },
  {
   "cell_type": "code",
   "execution_count": 10,
   "metadata": {},
   "outputs": [
    {
     "data": {
      "text/plain": [
       "Timestamp('2010-12-01 08:26:00')"
      ]
     },
     "execution_count": 10,
     "metadata": {},
     "output_type": "execute_result"
    }
   ],
   "source": [
    "df['InvoiceDate'].min()"
   ]
  },
  {
   "cell_type": "code",
   "execution_count": 11,
   "metadata": {},
   "outputs": [
    {
     "data": {
      "text/html": [
       "<div>\n",
       "<style scoped>\n",
       "    .dataframe tbody tr th:only-of-type {\n",
       "        vertical-align: middle;\n",
       "    }\n",
       "\n",
       "    .dataframe tbody tr th {\n",
       "        vertical-align: top;\n",
       "    }\n",
       "\n",
       "    .dataframe thead th {\n",
       "        text-align: right;\n",
       "    }\n",
       "</style>\n",
       "<table border=\"1\" class=\"dataframe\">\n",
       "  <thead>\n",
       "    <tr style=\"text-align: right;\">\n",
       "      <th></th>\n",
       "      <th>YearMonth</th>\n",
       "      <th>CustomerID</th>\n",
       "    </tr>\n",
       "  </thead>\n",
       "  <tbody>\n",
       "    <tr>\n",
       "      <th>0</th>\n",
       "      <td>2010-12</td>\n",
       "      <td>24536</td>\n",
       "    </tr>\n",
       "    <tr>\n",
       "      <th>1</th>\n",
       "      <td>2011-01</td>\n",
       "      <td>18738</td>\n",
       "    </tr>\n",
       "    <tr>\n",
       "      <th>2</th>\n",
       "      <td>2011-02</td>\n",
       "      <td>18110</td>\n",
       "    </tr>\n",
       "    <tr>\n",
       "      <th>3</th>\n",
       "      <td>2011-03</td>\n",
       "      <td>24587</td>\n",
       "    </tr>\n",
       "    <tr>\n",
       "      <th>4</th>\n",
       "      <td>2011-04</td>\n",
       "      <td>21358</td>\n",
       "    </tr>\n",
       "    <tr>\n",
       "      <th>5</th>\n",
       "      <td>2011-05</td>\n",
       "      <td>25738</td>\n",
       "    </tr>\n",
       "    <tr>\n",
       "      <th>6</th>\n",
       "      <td>2011-06</td>\n",
       "      <td>24296</td>\n",
       "    </tr>\n",
       "    <tr>\n",
       "      <th>7</th>\n",
       "      <td>2011-07</td>\n",
       "      <td>24170</td>\n",
       "    </tr>\n",
       "    <tr>\n",
       "      <th>8</th>\n",
       "      <td>2011-08</td>\n",
       "      <td>23623</td>\n",
       "    </tr>\n",
       "    <tr>\n",
       "      <th>9</th>\n",
       "      <td>2011-09</td>\n",
       "      <td>36333</td>\n",
       "    </tr>\n",
       "    <tr>\n",
       "      <th>10</th>\n",
       "      <td>2011-10</td>\n",
       "      <td>44621</td>\n",
       "    </tr>\n",
       "    <tr>\n",
       "      <th>11</th>\n",
       "      <td>2011-11</td>\n",
       "      <td>59691</td>\n",
       "    </tr>\n",
       "    <tr>\n",
       "      <th>12</th>\n",
       "      <td>2011-12</td>\n",
       "      <td>16077</td>\n",
       "    </tr>\n",
       "  </tbody>\n",
       "</table>\n",
       "</div>"
      ],
      "text/plain": [
       "   YearMonth  CustomerID\n",
       "0    2010-12       24536\n",
       "1    2011-01       18738\n",
       "2    2011-02       18110\n",
       "3    2011-03       24587\n",
       "4    2011-04       21358\n",
       "5    2011-05       25738\n",
       "6    2011-06       24296\n",
       "7    2011-07       24170\n",
       "8    2011-08       23623\n",
       "9    2011-09       36333\n",
       "10   2011-10       44621\n",
       "11   2011-11       59691\n",
       "12   2011-12       16077"
      ]
     },
     "execution_count": 11,
     "metadata": {},
     "output_type": "execute_result"
    }
   ],
   "source": [
    "# Create df for plotting customer count\n",
    "df_cust_count = df.groupby('YearMonth').CustomerID.count().reset_index()\n",
    "df_cust_count"
   ]
  },
  {
   "cell_type": "code",
   "execution_count": 12,
   "metadata": {},
   "outputs": [
    {
     "data": {
      "image/png": "[encoded data removed]",
      "text/plain": [
       "<Figure size 1440x432 with 1 Axes>"
      ]
     },
     "metadata": {
      "needs_background": "light"
     },
     "output_type": "display_data"
    }
   ],
   "source": [
    "# Plotting customer count\n",
    "fig, ax = plt.subplots(figsize=(20, 6))\n",
    "ax = sns.lineplot(x='YearMonth', y='CustomerID', data=df_cust_count)\n",
    "bar_plot(x='YearMonth', y='CustomerID', df=df_cust_count, value=True)\n",
    "format_spines(ax, right_border=False)\n",
    "ax.set_title('')\n",
    "#fig.suptitle('Number of Customers from 2010-2011', fontweight = 600, size=20)\n",
    "ax.set_xlabel('Year Month', fontsize = 15)\n",
    "ax.set_ylabel('Customer Count', fontsize = 15)\n",
    "plt.subplots_adjust(wspace=0.3, hspace=3, top=.85)\n",
    "\n",
    "# Savinf fig\n",
    "#fig1 = plt.gcf()\n",
    "#plt.show()\n",
    "#plt.draw()\n",
    "#fig1.savefig('count_cust.png')\n"
   ]
  },
  {
   "cell_type": "markdown",
   "metadata": {},
   "source": [
    "## 2. Customer Segmentation: RFM Analysis\n",
    "\n",
    "For customer segmentation, it will be used 3 important metrics for marketing analysis and customer lifetime value models.\n",
    "\n",
    "Recency: When was the customer's last order?\n",
    "\n",
    "Frequency: How often do they buy?\n",
    "    \n",
    "Monetary: What amount do they spend?\n",
    "\n",
    "\n",
    "#### Segments: \n",
    "\n",
    "Low-Value: Customers who are less active than others, not very frequent buyer/visitor and generates very low - zero - maybe negative revenue. \n",
    "\n",
    "Mid-Value: In the middle of everything. Often using our platform (but not as much as our High Values), fairly frequent and generates moderate revenue. \n",
    "\n",
    "High-Value: The group we don’t want to lose. High Revenue, Frequency and low Inactivity."
   ]
  },
  {
   "cell_type": "markdown",
   "metadata": {},
   "source": [
    "### Recency\n",
    "\n",
    "Calculate the number of days between present date and date of last purchase each customer. \n",
    "\n",
    "After having the number of inactive days for each customer, we will apply K-means* clustering to assign customers a recency score."
   ]
  },
  {
   "cell_type": "code",
   "execution_count": 13,
   "metadata": {},
   "outputs": [
    {
     "data": {
      "text/html": [
       "<div>\n",
       "<style scoped>\n",
       "    .dataframe tbody tr th:only-of-type {\n",
       "        vertical-align: middle;\n",
       "    }\n",
       "\n",
       "    .dataframe tbody tr th {\n",
       "        vertical-align: top;\n",
       "    }\n",
       "\n",
       "    .dataframe thead th {\n",
       "        text-align: right;\n",
       "    }\n",
       "</style>\n",
       "<table border=\"1\" class=\"dataframe\">\n",
       "  <thead>\n",
       "    <tr style=\"text-align: right;\">\n",
       "      <th></th>\n",
       "      <th>CustomerID</th>\n",
       "      <th>Recency</th>\n",
       "    </tr>\n",
       "  </thead>\n",
       "  <tbody>\n",
       "    <tr>\n",
       "      <th>0</th>\n",
       "      <td>17850.0</td>\n",
       "      <td>301</td>\n",
       "    </tr>\n",
       "    <tr>\n",
       "      <th>1</th>\n",
       "      <td>13047.0</td>\n",
       "      <td>31</td>\n",
       "    </tr>\n",
       "    <tr>\n",
       "      <th>2</th>\n",
       "      <td>13748.0</td>\n",
       "      <td>95</td>\n",
       "    </tr>\n",
       "    <tr>\n",
       "      <th>3</th>\n",
       "      <td>15100.0</td>\n",
       "      <td>329</td>\n",
       "    </tr>\n",
       "    <tr>\n",
       "      <th>4</th>\n",
       "      <td>15291.0</td>\n",
       "      <td>25</td>\n",
       "    </tr>\n",
       "  </tbody>\n",
       "</table>\n",
       "</div>"
      ],
      "text/plain": [
       "   CustomerID  Recency\n",
       "0     17850.0      301\n",
       "1     13047.0       31\n",
       "2     13748.0       95\n",
       "3     15100.0      329\n",
       "4     15291.0       25"
      ]
     },
     "execution_count": 13,
     "metadata": {},
     "output_type": "execute_result"
    }
   ],
   "source": [
    "# Get the max purchase date for each customer \n",
    "df_max_purchase = df.groupby('CustomerID').InvoiceDate.max().reset_index()\n",
    "df_max_purchase.columns = ['CustomerID', 'MaxPurchaseDate']\n",
    "\n",
    "# The max purchase date is the observation point\n",
    "df_max_purchase['Recency'] = (df_max_purchase['MaxPurchaseDate'].max() - df_max_purchase['MaxPurchaseDate']).dt.days\n",
    "\n",
    "# Merge with df_user\n",
    "df_user = pd.merge(df_user, df_max_purchase[['CustomerID','Recency']], on='CustomerID')\n",
    "\n",
    "df_user.head()"
   ]
  },
  {
   "cell_type": "markdown",
   "metadata": {},
   "source": [
    "### K-means clustering & Hyperparameters\n",
    "\n",
    "Apply K-means clustering to assign a recency score. But we should tell how many clusters we need to K-means algorithm. \n",
    "\n",
    "To find it out, we will apply Elbow Method. Elbow Method simply tells the optimal cluster number for optimal inertia."
   ]
  },
  {
   "cell_type": "code",
   "execution_count": 14,
   "metadata": {},
   "outputs": [
    {
     "data": {
      "image/png": "[encoded data removed]",
      "text/plain": [
       "<Figure size 720x360 with 1 Axes>"
      ]
     },
     "metadata": {},
     "output_type": "display_data"
    }
   ],
   "source": [
    "# Choosing optimal hyperparameters\n",
    "sse={}\n",
    "df_recency = df_user[['Recency']]\n",
    "for k in range(1, 10):\n",
    "    kmeans = KMeans(n_clusters=k, max_iter=1000).fit(df_recency)\n",
    "    df_recency['clusters'] = kmeans.labels_\n",
    "    sse[k] = kmeans.inertia_\n",
    "\n",
    "sns.set(palette='muted', color_codes=True, style='whitegrid')\n",
    "plt.figure(figsize=(10, 5))\n",
    "plt.plot(list(sse.keys()), list(sse.values()))\n",
    "plt.xlabel('Number of cluster')\n",
    "plt.show()"
   ]
  },
  {
   "cell_type": "code",
   "execution_count": 15,
   "metadata": {},
   "outputs": [],
   "source": [
    "# Building 4 clusters for recency \n",
    "kmeans = KMeans(n_clusters=4)\n",
    "kmeans.fit(df_user[['Recency']])\n",
    "df_user['RecencyCluster'] = kmeans.predict(df_user[['Recency']])"
   ]
  },
  {
   "cell_type": "code",
   "execution_count": 16,
   "metadata": {},
   "outputs": [
    {
     "data": {
      "text/html": [
       "<div>\n",
       "<style scoped>\n",
       "    .dataframe tbody tr th:only-of-type {\n",
       "        vertical-align: middle;\n",
       "    }\n",
       "\n",
       "    .dataframe tbody tr th {\n",
       "        vertical-align: top;\n",
       "    }\n",
       "\n",
       "    .dataframe thead th {\n",
       "        text-align: right;\n",
       "    }\n",
       "</style>\n",
       "<table border=\"1\" class=\"dataframe\">\n",
       "  <thead>\n",
       "    <tr style=\"text-align: right;\">\n",
       "      <th></th>\n",
       "      <th>count</th>\n",
       "      <th>mean</th>\n",
       "      <th>std</th>\n",
       "      <th>min</th>\n",
       "      <th>25%</th>\n",
       "      <th>50%</th>\n",
       "      <th>75%</th>\n",
       "      <th>max</th>\n",
       "    </tr>\n",
       "    <tr>\n",
       "      <th>RecencyCluster</th>\n",
       "      <th></th>\n",
       "      <th></th>\n",
       "      <th></th>\n",
       "      <th></th>\n",
       "      <th></th>\n",
       "      <th></th>\n",
       "      <th></th>\n",
       "      <th></th>\n",
       "    </tr>\n",
       "  </thead>\n",
       "  <tbody>\n",
       "    <tr>\n",
       "      <th>0</th>\n",
       "      <td>1950.0</td>\n",
       "      <td>17.488205</td>\n",
       "      <td>13.237058</td>\n",
       "      <td>0.0</td>\n",
       "      <td>6.00</td>\n",
       "      <td>16.0</td>\n",
       "      <td>28.0</td>\n",
       "      <td>47.0</td>\n",
       "    </tr>\n",
       "    <tr>\n",
       "      <th>1</th>\n",
       "      <td>478.0</td>\n",
       "      <td>304.393305</td>\n",
       "      <td>41.183489</td>\n",
       "      <td>245.0</td>\n",
       "      <td>266.25</td>\n",
       "      <td>300.0</td>\n",
       "      <td>336.0</td>\n",
       "      <td>373.0</td>\n",
       "    </tr>\n",
       "    <tr>\n",
       "      <th>2</th>\n",
       "      <td>570.0</td>\n",
       "      <td>184.436842</td>\n",
       "      <td>31.856230</td>\n",
       "      <td>131.0</td>\n",
       "      <td>156.00</td>\n",
       "      <td>184.0</td>\n",
       "      <td>211.0</td>\n",
       "      <td>244.0</td>\n",
       "    </tr>\n",
       "    <tr>\n",
       "      <th>3</th>\n",
       "      <td>952.0</td>\n",
       "      <td>77.567227</td>\n",
       "      <td>22.743569</td>\n",
       "      <td>48.0</td>\n",
       "      <td>59.00</td>\n",
       "      <td>72.0</td>\n",
       "      <td>93.0</td>\n",
       "      <td>130.0</td>\n",
       "    </tr>\n",
       "  </tbody>\n",
       "</table>\n",
       "</div>"
      ],
      "text/plain": [
       "                 count        mean        std    min     25%    50%    75%  \\\n",
       "RecencyCluster                                                               \n",
       "0               1950.0   17.488205  13.237058    0.0    6.00   16.0   28.0   \n",
       "1                478.0  304.393305  41.183489  245.0  266.25  300.0  336.0   \n",
       "2                570.0  184.436842  31.856230  131.0  156.00  184.0  211.0   \n",
       "3                952.0   77.567227  22.743569   48.0   59.00   72.0   93.0   \n",
       "\n",
       "                  max  \n",
       "RecencyCluster         \n",
       "0                47.0  \n",
       "1               373.0  \n",
       "2               244.0  \n",
       "3               130.0  "
      ]
     },
     "execution_count": 16,
     "metadata": {},
     "output_type": "execute_result"
    }
   ],
   "source": [
    "# Displaying the details of each cluster\n",
    "df_user.groupby('RecencyCluster')['Recency'].describe()"
   ]
  },
  {
   "cell_type": "markdown",
   "metadata": {},
   "source": [
    "#### Ordering Cluster Numbers\n",
    "We have a cluster corresponding to each customerID. But each cluster is randomly assigned. Cluster 2 is not better than cluster 1 for e.g. and so on. \n",
    "\n",
    "We want to give clusters according to most recent transactions.\n",
    "\n",
    "#### Steps taken:\n",
    "\n",
    "1. Find the mean of recency value corresponding to each cluster. \n",
    "\n",
    "2. Sort these values. Let's say cluster 3 has the most recent transactions mean value. From the above table we see that cluster 1(mean recency 304) > cluster 2 > cluster 3 > cluster 0. That means that cluster 1 is most inactive and cluster 0 is most recent. \n",
    "\n",
    "3. Give indices to these clusters as 0,1,2,3. So cluster 1 becomes cluster 0, cluster 2 becomes cluster 1, cluster 3 becomes cluster 2 and so on. \n",
    "\n",
    "4. Drop the original cluster numbers and replace them with 0,1,2,3. Code is below."
   ]
  },
  {
   "cell_type": "code",
   "execution_count": 17,
   "metadata": {},
   "outputs": [],
   "source": [
    "# Function for ordering cluster numbers\n",
    "def order_cluster(cluster_field_name, target_field_name,df,ascending):\n",
    "    new_cluster_field_name = 'new_' + cluster_field_name\n",
    "    df_new = df.groupby(cluster_field_name)[target_field_name].mean().reset_index()\n",
    "    df_new = df_new.sort_values(by=target_field_name,ascending=ascending).reset_index(drop=True)\n",
    "    df_new['index'] = df_new.index\n",
    "    df_final = pd.merge(df,df_new[[cluster_field_name,'index']], on=cluster_field_name)\n",
    "    df_final = df_final.drop([cluster_field_name],axis=1)\n",
    "    df_final = df_final.rename(columns={\"index\":cluster_field_name})\n",
    "    return df_final\n",
    "\n",
    "df_user = order_cluster('RecencyCluster', 'Recency',df_user,False)"
   ]
  },
  {
   "cell_type": "code",
   "execution_count": 18,
   "metadata": {},
   "outputs": [
    {
     "data": {
      "text/plain": [
       "Index(['CustomerID', 'Recency', 'RecencyCluster'], dtype='object')"
      ]
     },
     "execution_count": 18,
     "metadata": {},
     "output_type": "execute_result"
    }
   ],
   "source": [
    "df_user.columns"
   ]
  },
  {
   "cell_type": "markdown",
   "metadata": {},
   "source": [
    "### Frequency\n",
    "\n",
    "To create frequency clusters we need to find total number orders for each customer to be able place them in various clusters."
   ]
  },
  {
   "cell_type": "code",
   "execution_count": 19,
   "metadata": {},
   "outputs": [],
   "source": [
    "# Get order counts for each user \n",
    "df_frequency = df.groupby('CustomerID').InvoiceDate.count().reset_index()\n",
    "df_frequency.columns = ['CustomerID','Frequency']\n",
    "\n",
    "# Merge with df_user\n",
    "df_user = pd.merge(df_user, df_frequency, on='CustomerID')"
   ]
  },
  {
   "cell_type": "code",
   "execution_count": 20,
   "metadata": {},
   "outputs": [
    {
     "data": {
      "text/html": [
       "<div>\n",
       "<style scoped>\n",
       "    .dataframe tbody tr th:only-of-type {\n",
       "        vertical-align: middle;\n",
       "    }\n",
       "\n",
       "    .dataframe tbody tr th {\n",
       "        vertical-align: top;\n",
       "    }\n",
       "\n",
       "    .dataframe thead th {\n",
       "        text-align: right;\n",
       "    }\n",
       "</style>\n",
       "<table border=\"1\" class=\"dataframe\">\n",
       "  <thead>\n",
       "    <tr style=\"text-align: right;\">\n",
       "      <th></th>\n",
       "      <th>count</th>\n",
       "      <th>mean</th>\n",
       "      <th>std</th>\n",
       "      <th>min</th>\n",
       "      <th>25%</th>\n",
       "      <th>50%</th>\n",
       "      <th>75%</th>\n",
       "      <th>max</th>\n",
       "    </tr>\n",
       "    <tr>\n",
       "      <th>FrequencyCluster</th>\n",
       "      <th></th>\n",
       "      <th></th>\n",
       "      <th></th>\n",
       "      <th></th>\n",
       "      <th></th>\n",
       "      <th></th>\n",
       "      <th></th>\n",
       "      <th></th>\n",
       "    </tr>\n",
       "  </thead>\n",
       "  <tbody>\n",
       "    <tr>\n",
       "      <th>0</th>\n",
       "      <td>3495.0</td>\n",
       "      <td>49.485551</td>\n",
       "      <td>44.897776</td>\n",
       "      <td>1.0</td>\n",
       "      <td>15.00</td>\n",
       "      <td>33.0</td>\n",
       "      <td>73.0</td>\n",
       "      <td>189.0</td>\n",
       "    </tr>\n",
       "    <tr>\n",
       "      <th>1</th>\n",
       "      <td>430.0</td>\n",
       "      <td>330.893023</td>\n",
       "      <td>133.873745</td>\n",
       "      <td>190.0</td>\n",
       "      <td>227.25</td>\n",
       "      <td>287.0</td>\n",
       "      <td>398.0</td>\n",
       "      <td>803.0</td>\n",
       "    </tr>\n",
       "    <tr>\n",
       "      <th>2</th>\n",
       "      <td>22.0</td>\n",
       "      <td>1313.136364</td>\n",
       "      <td>505.934524</td>\n",
       "      <td>872.0</td>\n",
       "      <td>988.50</td>\n",
       "      <td>1140.0</td>\n",
       "      <td>1452.0</td>\n",
       "      <td>2782.0</td>\n",
       "    </tr>\n",
       "    <tr>\n",
       "      <th>3</th>\n",
       "      <td>3.0</td>\n",
       "      <td>5917.666667</td>\n",
       "      <td>1805.062418</td>\n",
       "      <td>4642.0</td>\n",
       "      <td>4885.00</td>\n",
       "      <td>5128.0</td>\n",
       "      <td>6555.5</td>\n",
       "      <td>7983.0</td>\n",
       "    </tr>\n",
       "  </tbody>\n",
       "</table>\n",
       "</div>"
      ],
      "text/plain": [
       "                   count         mean          std     min      25%     50%  \\\n",
       "FrequencyCluster                                                              \n",
       "0                 3495.0    49.485551    44.897776     1.0    15.00    33.0   \n",
       "1                  430.0   330.893023   133.873745   190.0   227.25   287.0   \n",
       "2                   22.0  1313.136364   505.934524   872.0   988.50  1140.0   \n",
       "3                    3.0  5917.666667  1805.062418  4642.0  4885.00  5128.0   \n",
       "\n",
       "                     75%     max  \n",
       "FrequencyCluster                  \n",
       "0                   73.0   189.0  \n",
       "1                  398.0   803.0  \n",
       "2                 1452.0  2782.0  \n",
       "3                 6555.5  7983.0  "
      ]
     },
     "execution_count": 20,
     "metadata": {},
     "output_type": "execute_result"
    }
   ],
   "source": [
    "# k-means\n",
    "kmeans = KMeans(n_clusters=4)\n",
    "kmeans.fit(df_user[['Frequency']])\n",
    "df_user['FrequencyCluster'] = kmeans.predict(df_user[['Frequency']])\n",
    "\n",
    "# Order the frequency cluster\n",
    "df_user = order_cluster('FrequencyCluster', 'Frequency',df_user,True)\n",
    "\n",
    "# Display details of each cluster\n",
    "df_user.groupby('FrequencyCluster')['Frequency'].describe()"
   ]
  },
  {
   "cell_type": "markdown",
   "metadata": {},
   "source": [
    "Again we see that high frequency number indicates better customers."
   ]
  },
  {
   "cell_type": "markdown",
   "metadata": {},
   "source": [
    "### Monetary (Revenue)\n",
    "\n",
    "For Monetary, calculate sum of purchase price for each customer and apply the same clustering method."
   ]
  },
  {
   "cell_type": "code",
   "execution_count": 21,
   "metadata": {},
   "outputs": [],
   "source": [
    "# Calculate revenue for each customer\n",
    "df['Revenue'] = df['UnitPrice'] * df['Quantity']\n",
    "df_revenue = df.groupby('CustomerID').Revenue.sum().reset_index()\n",
    "\n",
    "# Merge with df_user\n",
    "df_user = pd.merge(df_user, df_revenue, on='CustomerID')"
   ]
  },
  {
   "cell_type": "code",
   "execution_count": 22,
   "metadata": {},
   "outputs": [
    {
     "data": {
      "text/html": [
       "<div>\n",
       "<style scoped>\n",
       "    .dataframe tbody tr th:only-of-type {\n",
       "        vertical-align: middle;\n",
       "    }\n",
       "\n",
       "    .dataframe tbody tr th {\n",
       "        vertical-align: top;\n",
       "    }\n",
       "\n",
       "    .dataframe thead th {\n",
       "        text-align: right;\n",
       "    }\n",
       "</style>\n",
       "<table border=\"1\" class=\"dataframe\">\n",
       "  <thead>\n",
       "    <tr style=\"text-align: right;\">\n",
       "      <th></th>\n",
       "      <th>count</th>\n",
       "      <th>mean</th>\n",
       "      <th>std</th>\n",
       "      <th>min</th>\n",
       "      <th>25%</th>\n",
       "      <th>50%</th>\n",
       "      <th>75%</th>\n",
       "      <th>max</th>\n",
       "    </tr>\n",
       "    <tr>\n",
       "      <th>RevenueCluster</th>\n",
       "      <th></th>\n",
       "      <th></th>\n",
       "      <th></th>\n",
       "      <th></th>\n",
       "      <th></th>\n",
       "      <th></th>\n",
       "      <th></th>\n",
       "      <th></th>\n",
       "    </tr>\n",
       "  </thead>\n",
       "  <tbody>\n",
       "    <tr>\n",
       "      <th>0</th>\n",
       "      <td>3687.0</td>\n",
       "      <td>907.254414</td>\n",
       "      <td>921.910820</td>\n",
       "      <td>-4287.63</td>\n",
       "      <td>263.115</td>\n",
       "      <td>572.56</td>\n",
       "      <td>1258.220</td>\n",
       "      <td>4314.72</td>\n",
       "    </tr>\n",
       "    <tr>\n",
       "      <th>1</th>\n",
       "      <td>234.0</td>\n",
       "      <td>7760.699530</td>\n",
       "      <td>3637.173671</td>\n",
       "      <td>4330.67</td>\n",
       "      <td>5161.485</td>\n",
       "      <td>6549.38</td>\n",
       "      <td>9142.305</td>\n",
       "      <td>21535.90</td>\n",
       "    </tr>\n",
       "    <tr>\n",
       "      <th>2</th>\n",
       "      <td>27.0</td>\n",
       "      <td>43070.445185</td>\n",
       "      <td>15939.249588</td>\n",
       "      <td>25748.35</td>\n",
       "      <td>28865.490</td>\n",
       "      <td>36351.42</td>\n",
       "      <td>53489.790</td>\n",
       "      <td>88125.38</td>\n",
       "    </tr>\n",
       "    <tr>\n",
       "      <th>3</th>\n",
       "      <td>2.0</td>\n",
       "      <td>221960.330000</td>\n",
       "      <td>48759.481478</td>\n",
       "      <td>187482.17</td>\n",
       "      <td>204721.250</td>\n",
       "      <td>221960.33</td>\n",
       "      <td>239199.410</td>\n",
       "      <td>256438.49</td>\n",
       "    </tr>\n",
       "  </tbody>\n",
       "</table>\n",
       "</div>"
      ],
      "text/plain": [
       "                 count           mean           std        min         25%  \\\n",
       "RevenueCluster                                                               \n",
       "0               3687.0     907.254414    921.910820   -4287.63     263.115   \n",
       "1                234.0    7760.699530   3637.173671    4330.67    5161.485   \n",
       "2                 27.0   43070.445185  15939.249588   25748.35   28865.490   \n",
       "3                  2.0  221960.330000  48759.481478  187482.17  204721.250   \n",
       "\n",
       "                      50%         75%        max  \n",
       "RevenueCluster                                    \n",
       "0                  572.56    1258.220    4314.72  \n",
       "1                 6549.38    9142.305   21535.90  \n",
       "2                36351.42   53489.790   88125.38  \n",
       "3               221960.33  239199.410  256438.49  "
      ]
     },
     "execution_count": 22,
     "metadata": {},
     "output_type": "execute_result"
    }
   ],
   "source": [
    "# k-means\n",
    "kmeans = KMeans(n_clusters=4)\n",
    "kmeans.fit(df_user[['Revenue']])\n",
    "df_user['RevenueCluster'] = kmeans.predict(df_user[['Revenue']])\n",
    "\n",
    "\n",
    "# Order the cluster numbers\n",
    "df_user = order_cluster('RevenueCluster', 'Revenue',df_user,True)\n",
    "\n",
    "# Display details of the dataframe\n",
    "df_user.groupby('RevenueCluster')['Revenue'].describe()"
   ]
  },
  {
   "cell_type": "code",
   "execution_count": 23,
   "metadata": {},
   "outputs": [
    {
     "data": {
      "text/html": [
       "<div>\n",
       "<style scoped>\n",
       "    .dataframe tbody tr th:only-of-type {\n",
       "        vertical-align: middle;\n",
       "    }\n",
       "\n",
       "    .dataframe tbody tr th {\n",
       "        vertical-align: top;\n",
       "    }\n",
       "\n",
       "    .dataframe thead th {\n",
       "        text-align: right;\n",
       "    }\n",
       "</style>\n",
       "<table border=\"1\" class=\"dataframe\">\n",
       "  <thead>\n",
       "    <tr style=\"text-align: right;\">\n",
       "      <th></th>\n",
       "      <th>CustomerID</th>\n",
       "      <th>Recency</th>\n",
       "      <th>RecencyCluster</th>\n",
       "      <th>Frequency</th>\n",
       "      <th>FrequencyCluster</th>\n",
       "      <th>Revenue</th>\n",
       "      <th>RevenueCluster</th>\n",
       "    </tr>\n",
       "  </thead>\n",
       "  <tbody>\n",
       "    <tr>\n",
       "      <th>0</th>\n",
       "      <td>17850.0</td>\n",
       "      <td>301</td>\n",
       "      <td>0</td>\n",
       "      <td>312</td>\n",
       "      <td>1</td>\n",
       "      <td>5288.63</td>\n",
       "      <td>1</td>\n",
       "    </tr>\n",
       "    <tr>\n",
       "      <th>1</th>\n",
       "      <td>14688.0</td>\n",
       "      <td>7</td>\n",
       "      <td>3</td>\n",
       "      <td>359</td>\n",
       "      <td>1</td>\n",
       "      <td>5107.38</td>\n",
       "      <td>1</td>\n",
       "    </tr>\n",
       "    <tr>\n",
       "      <th>2</th>\n",
       "      <td>13767.0</td>\n",
       "      <td>1</td>\n",
       "      <td>3</td>\n",
       "      <td>399</td>\n",
       "      <td>1</td>\n",
       "      <td>16945.71</td>\n",
       "      <td>1</td>\n",
       "    </tr>\n",
       "    <tr>\n",
       "      <th>3</th>\n",
       "      <td>15513.0</td>\n",
       "      <td>30</td>\n",
       "      <td>3</td>\n",
       "      <td>314</td>\n",
       "      <td>1</td>\n",
       "      <td>14520.08</td>\n",
       "      <td>1</td>\n",
       "    </tr>\n",
       "    <tr>\n",
       "      <th>4</th>\n",
       "      <td>14849.0</td>\n",
       "      <td>21</td>\n",
       "      <td>3</td>\n",
       "      <td>392</td>\n",
       "      <td>1</td>\n",
       "      <td>7904.28</td>\n",
       "      <td>1</td>\n",
       "    </tr>\n",
       "  </tbody>\n",
       "</table>\n",
       "</div>"
      ],
      "text/plain": [
       "   CustomerID  Recency  RecencyCluster  Frequency  FrequencyCluster   Revenue  \\\n",
       "0     17850.0      301               0        312                 1   5288.63   \n",
       "1     14688.0        7               3        359                 1   5107.38   \n",
       "2     13767.0        1               3        399                 1  16945.71   \n",
       "3     15513.0       30               3        314                 1  14520.08   \n",
       "4     14849.0       21               3        392                 1   7904.28   \n",
       "\n",
       "   RevenueCluster  \n",
       "0               1  \n",
       "1               1  \n",
       "2               1  \n",
       "3               1  \n",
       "4               1  "
      ]
     },
     "execution_count": 23,
     "metadata": {},
     "output_type": "execute_result"
    }
   ],
   "source": [
    "df_user.head()"
   ]
  },
  {
   "cell_type": "markdown",
   "metadata": {},
   "source": [
    "### RFM Score\n",
    "\n",
    "Create an overall score out of them recency, frequency & revenue."
   ]
  },
  {
   "cell_type": "code",
   "execution_count": 24,
   "metadata": {},
   "outputs": [
    {
     "data": {
      "text/html": [
       "<div>\n",
       "<style scoped>\n",
       "    .dataframe tbody tr th:only-of-type {\n",
       "        vertical-align: middle;\n",
       "    }\n",
       "\n",
       "    .dataframe tbody tr th {\n",
       "        vertical-align: top;\n",
       "    }\n",
       "\n",
       "    .dataframe thead th {\n",
       "        text-align: right;\n",
       "    }\n",
       "</style>\n",
       "<table border=\"1\" class=\"dataframe\">\n",
       "  <thead>\n",
       "    <tr style=\"text-align: right;\">\n",
       "      <th></th>\n",
       "      <th>Recency</th>\n",
       "      <th>Frequency</th>\n",
       "      <th>Revenue</th>\n",
       "    </tr>\n",
       "    <tr>\n",
       "      <th>OverallScore</th>\n",
       "      <th></th>\n",
       "      <th></th>\n",
       "      <th></th>\n",
       "    </tr>\n",
       "  </thead>\n",
       "  <tbody>\n",
       "    <tr>\n",
       "      <th>0</th>\n",
       "      <td>304.584388</td>\n",
       "      <td>21.995781</td>\n",
       "      <td>303.339705</td>\n",
       "    </tr>\n",
       "    <tr>\n",
       "      <th>1</th>\n",
       "      <td>185.170213</td>\n",
       "      <td>32.569149</td>\n",
       "      <td>499.035215</td>\n",
       "    </tr>\n",
       "    <tr>\n",
       "      <th>2</th>\n",
       "      <td>78.877996</td>\n",
       "      <td>47.010893</td>\n",
       "      <td>868.306854</td>\n",
       "    </tr>\n",
       "    <tr>\n",
       "      <th>3</th>\n",
       "      <td>20.686093</td>\n",
       "      <td>68.339073</td>\n",
       "      <td>1090.837517</td>\n",
       "    </tr>\n",
       "    <tr>\n",
       "      <th>4</th>\n",
       "      <td>14.929766</td>\n",
       "      <td>271.481605</td>\n",
       "      <td>3601.606990</td>\n",
       "    </tr>\n",
       "    <tr>\n",
       "      <th>5</th>\n",
       "      <td>9.662162</td>\n",
       "      <td>373.290541</td>\n",
       "      <td>9136.946014</td>\n",
       "    </tr>\n",
       "    <tr>\n",
       "      <th>6</th>\n",
       "      <td>7.740741</td>\n",
       "      <td>876.037037</td>\n",
       "      <td>22777.914815</td>\n",
       "    </tr>\n",
       "    <tr>\n",
       "      <th>7</th>\n",
       "      <td>1.857143</td>\n",
       "      <td>1272.714286</td>\n",
       "      <td>103954.025714</td>\n",
       "    </tr>\n",
       "    <tr>\n",
       "      <th>8</th>\n",
       "      <td>1.333333</td>\n",
       "      <td>5917.666667</td>\n",
       "      <td>42177.930000</td>\n",
       "    </tr>\n",
       "  </tbody>\n",
       "</table>\n",
       "</div>"
      ],
      "text/plain": [
       "                 Recency    Frequency        Revenue\n",
       "OverallScore                                        \n",
       "0             304.584388    21.995781     303.339705\n",
       "1             185.170213    32.569149     499.035215\n",
       "2              78.877996    47.010893     868.306854\n",
       "3              20.686093    68.339073    1090.837517\n",
       "4              14.929766   271.481605    3601.606990\n",
       "5               9.662162   373.290541    9136.946014\n",
       "6               7.740741   876.037037   22777.914815\n",
       "7               1.857143  1272.714286  103954.025714\n",
       "8               1.333333  5917.666667   42177.930000"
      ]
     },
     "execution_count": 24,
     "metadata": {},
     "output_type": "execute_result"
    }
   ],
   "source": [
    "# Renaming columns\n",
    "df_user.columns = ['CustomerID', 'Recency', 'RecencyCluster', 'Frequency', 'FrequencyCluster', 'Revenue', 'RevenueCluster']\n",
    "# Calculate overall score and use mean() to see details\n",
    "df_user['OverallScore'] = df_user['RecencyCluster'] + df_user['FrequencyCluster'] + df_user['RevenueCluster']\n",
    "df_user.groupby('OverallScore')['Recency','Frequency','Revenue'].mean()"
   ]
  },
  {
   "cell_type": "code",
   "execution_count": 25,
   "metadata": {},
   "outputs": [
    {
     "data": {
      "text/html": [
       "<div>\n",
       "<style scoped>\n",
       "    .dataframe tbody tr th:only-of-type {\n",
       "        vertical-align: middle;\n",
       "    }\n",
       "\n",
       "    .dataframe tbody tr th {\n",
       "        vertical-align: top;\n",
       "    }\n",
       "\n",
       "    .dataframe thead th {\n",
       "        text-align: right;\n",
       "    }\n",
       "</style>\n",
       "<table border=\"1\" class=\"dataframe\">\n",
       "  <thead>\n",
       "    <tr style=\"text-align: right;\">\n",
       "      <th></th>\n",
       "      <th>CustomerID</th>\n",
       "      <th>Recency</th>\n",
       "      <th>RecencyCluster</th>\n",
       "      <th>Frequency</th>\n",
       "      <th>FrequencyCluster</th>\n",
       "      <th>Revenue</th>\n",
       "      <th>RevenueCluster</th>\n",
       "      <th>OverallScore</th>\n",
       "    </tr>\n",
       "  </thead>\n",
       "  <tbody>\n",
       "    <tr>\n",
       "      <th>0</th>\n",
       "      <td>17850.0</td>\n",
       "      <td>301</td>\n",
       "      <td>0</td>\n",
       "      <td>312</td>\n",
       "      <td>1</td>\n",
       "      <td>5288.63</td>\n",
       "      <td>1</td>\n",
       "      <td>2</td>\n",
       "    </tr>\n",
       "    <tr>\n",
       "      <th>1</th>\n",
       "      <td>14688.0</td>\n",
       "      <td>7</td>\n",
       "      <td>3</td>\n",
       "      <td>359</td>\n",
       "      <td>1</td>\n",
       "      <td>5107.38</td>\n",
       "      <td>1</td>\n",
       "      <td>5</td>\n",
       "    </tr>\n",
       "    <tr>\n",
       "      <th>2</th>\n",
       "      <td>13767.0</td>\n",
       "      <td>1</td>\n",
       "      <td>3</td>\n",
       "      <td>399</td>\n",
       "      <td>1</td>\n",
       "      <td>16945.71</td>\n",
       "      <td>1</td>\n",
       "      <td>5</td>\n",
       "    </tr>\n",
       "    <tr>\n",
       "      <th>3</th>\n",
       "      <td>15513.0</td>\n",
       "      <td>30</td>\n",
       "      <td>3</td>\n",
       "      <td>314</td>\n",
       "      <td>1</td>\n",
       "      <td>14520.08</td>\n",
       "      <td>1</td>\n",
       "      <td>5</td>\n",
       "    </tr>\n",
       "    <tr>\n",
       "      <th>4</th>\n",
       "      <td>14849.0</td>\n",
       "      <td>21</td>\n",
       "      <td>3</td>\n",
       "      <td>392</td>\n",
       "      <td>1</td>\n",
       "      <td>7904.28</td>\n",
       "      <td>1</td>\n",
       "      <td>5</td>\n",
       "    </tr>\n",
       "  </tbody>\n",
       "</table>\n",
       "</div>"
      ],
      "text/plain": [
       "   CustomerID  Recency  RecencyCluster  Frequency  FrequencyCluster   Revenue  \\\n",
       "0     17850.0      301               0        312                 1   5288.63   \n",
       "1     14688.0        7               3        359                 1   5107.38   \n",
       "2     13767.0        1               3        399                 1  16945.71   \n",
       "3     15513.0       30               3        314                 1  14520.08   \n",
       "4     14849.0       21               3        392                 1   7904.28   \n",
       "\n",
       "   RevenueCluster  OverallScore  \n",
       "0               1             2  \n",
       "1               1             5  \n",
       "2               1             5  \n",
       "3               1             5  \n",
       "4               1             5  "
      ]
     },
     "execution_count": 25,
     "metadata": {},
     "output_type": "execute_result"
    }
   ],
   "source": [
    "df_user.head()"
   ]
  },
  {
   "cell_type": "markdown",
   "metadata": {},
   "source": [
    "The scoring above shows us that customers with score 8 is our best customers whereas 0 is the worst. \n",
    "\n",
    "Create score buckets: 0 to 2: Low-Value 3 to 4: Mid-Value 5+: High-Value"
   ]
  },
  {
   "cell_type": "code",
   "execution_count": 26,
   "metadata": {},
   "outputs": [],
   "source": [
    "# Score buckets\n",
    "df_user['Segment'] = 'Low-Value'\n",
    "df_user.loc[df_user['OverallScore']>2,'Segment'] = 'Mid-Value' \n",
    "df_user.loc[df_user['OverallScore']>4,'Segment'] = 'High-Value' "
   ]
  },
  {
   "cell_type": "code",
   "execution_count": 27,
   "metadata": {},
   "outputs": [
    {
     "name": "stdout",
     "output_type": "stream",
     "text": [
      "(3950, 9)\n"
     ]
    }
   ],
   "source": [
    "print(df_user.shape)\n",
    "df_user.head()\n",
    "df_user = df_user.sort_values('Segment', ascending=False)"
   ]
  },
  {
   "cell_type": "code",
   "execution_count": 28,
   "metadata": {},
   "outputs": [
    {
     "data": {
      "image/png": "[encoded data removed]",
      "text/plain": [
       "<Figure size 1080x360 with 3 Axes>"
      ]
     },
     "metadata": {},
     "output_type": "display_data"
    }
   ],
   "source": [
    "# Plotting the distribution of Clusters\n",
    "sns.set(palette='muted', color_codes=True, style='white')\n",
    "sns.set_style(\"ticks\", {\"xtick.major.size\": 8, \"ytick.major.size\": 8})\n",
    "fig, axs = plt.subplots(1, 3, figsize=(15, 5))\n",
    "sns.despine()\n",
    "sns.scatterplot(x='Recency', y='Frequency', ax=axs[0], hue='Segment', data=df_user, size='Segment', sizes=(50,100), size_order=['High-Value','Mid-Value','Low-Value'],  palette=[\"b\", \"r\", \"#3bc57fff\"])\n",
    "sns.scatterplot(x='Frequency', y='Revenue', ax=axs[1], hue='Segment', data=df_user, size='Segment' , sizes=(50,100), size_order=['High-Value','Mid-Value','Low-Value'], palette=[\"b\", \"r\", \"#3bc57fff\"])\n",
    "sns.scatterplot(x='Recency', y='Revenue', ax=axs[2], hue='Segment', data=df_user, size='Segment' , sizes=(50,100), size_order=['High-Value','Mid-Value','Low-Value'], palette=[\"b\", \"r\", \"#3bc57fff\"])\n",
    " \n",
    "axs[0].set_title('Segments by Recency & Frequency', fontsize = 16)\n",
    "axs[1].set_title('Segments by Frequency & Revenue', fontsize = 16)\n",
    "axs[2].set_title('Segments by Recency & Revenue', fontsize = 16)\n",
    "\n",
    "axs[0].set_xlabel('Recency', fontsize = 14)\n",
    "axs[0].set_ylabel('Frequency', fontsize = 14)\n",
    "axs[1].set_xlabel('Frequency', fontsize = 14)\n",
    "axs[1].set_ylabel('Revenue', fontsize = 14)\n",
    "axs[2].set_xlabel('Recency', fontsize = 14)\n",
    "axs[2].set_ylabel('Revenue', fontsize = 14)\n",
    "\n",
    "fig.suptitle('Customer Segmentation RFM', fontweight = 600, size=20)\n",
    "plt.subplots_adjust(top=.85)\n",
    "\n",
    "# Savinf fig\n",
    "#fig2 = plt.gcf()\n",
    "#plt.show()\n",
    "#plt.draw()\n",
    "#fig2.savefig('seg_cust.png')"
   ]
  },
  {
   "cell_type": "markdown",
   "metadata": {},
   "source": [
    "ACTION POINTS:\n",
    "\n",
    "High Value: Improve Retention\n",
    "\n",
    "Mid Value: Improve Retention + Increase Frequency\n",
    "\n",
    "Low Value: Increase Frequency"
   ]
  },
  {
   "cell_type": "markdown",
   "metadata": {},
   "source": [
    "## 3. Customer Lifetime Value (LTV)\n",
    "\n",
    "After segmenting the customers we can track customer lifetime value.\n",
    "\n",
    "We invest in customers (acquisition costs, offline ads, promotions, discounts & etc.) to generate revenue and be profitable. \n",
    "\n",
    "These actions make some customers super valuable in terms of lifetime value but there are always some customers who pull down the profitability. \n",
    "\n",
    "Calculating Lifetime Value: select a time window (3, 6, 12, 24 months).\n",
    "\n",
    "#### Historical CLV = the sum of revenues of all customer transactions multiplied by average or product-level profit margin.\n",
    "\n",
    "*** There is no cost specified in the dataset. That’s why Revenue becomes the LTV directly.\n",
    "\n",
    "If some customers are having very high negative lifetime value historically, it could be too late to take an action. At this point, we need to predict the future with ML.\n"
   ]
  },
  {
   "cell_type": "code",
   "execution_count": 29,
   "metadata": {},
   "outputs": [],
   "source": [
    "# Create 3m and 6m dataframes\n",
    "df_3m = df[(df.InvoiceDate < datetime(2011,6,1)) & (df.InvoiceDate >= datetime(2011,3,1))].reset_index(drop=True)\n",
    "df_6m = df[(df.InvoiceDate >= datetime(2011,6,1)) & (df.InvoiceDate < datetime(2011,12,1))].reset_index(drop=True)\n",
    "\n",
    "# Create df_user for assigning segmentation scores\n",
    "df_user_new = pd.DataFrame(df_3m['CustomerID'].unique())\n",
    "df_user_new.columns = ['CustomerID']"
   ]
  },
  {
   "cell_type": "code",
   "execution_count": 30,
   "metadata": {},
   "outputs": [
    {
     "data": {
      "text/html": [
       "<div>\n",
       "<style scoped>\n",
       "    .dataframe tbody tr th:only-of-type {\n",
       "        vertical-align: middle;\n",
       "    }\n",
       "\n",
       "    .dataframe tbody tr th {\n",
       "        vertical-align: top;\n",
       "    }\n",
       "\n",
       "    .dataframe thead th {\n",
       "        text-align: right;\n",
       "    }\n",
       "</style>\n",
       "<table border=\"1\" class=\"dataframe\">\n",
       "  <thead>\n",
       "    <tr style=\"text-align: right;\">\n",
       "      <th></th>\n",
       "      <th>CustomerID</th>\n",
       "      <th>Recency</th>\n",
       "      <th>RecencyCluster</th>\n",
       "      <th>Frequency</th>\n",
       "      <th>FrequencyCluster</th>\n",
       "      <th>Monetary</th>\n",
       "      <th>RevenueCluster</th>\n",
       "      <th>OverallScore</th>\n",
       "      <th>Segment</th>\n",
       "    </tr>\n",
       "  </thead>\n",
       "  <tbody>\n",
       "    <tr>\n",
       "      <th>0</th>\n",
       "      <td>14620.0</td>\n",
       "      <td>12</td>\n",
       "      <td>3</td>\n",
       "      <td>30</td>\n",
       "      <td>0</td>\n",
       "      <td>393.28</td>\n",
       "      <td>0</td>\n",
       "      <td>3</td>\n",
       "      <td>Mid-Value</td>\n",
       "    </tr>\n",
       "    <tr>\n",
       "      <th>1</th>\n",
       "      <td>15194.0</td>\n",
       "      <td>6</td>\n",
       "      <td>3</td>\n",
       "      <td>64</td>\n",
       "      <td>0</td>\n",
       "      <td>1439.02</td>\n",
       "      <td>0</td>\n",
       "      <td>3</td>\n",
       "      <td>Mid-Value</td>\n",
       "    </tr>\n",
       "    <tr>\n",
       "      <th>2</th>\n",
       "      <td>18044.0</td>\n",
       "      <td>5</td>\n",
       "      <td>3</td>\n",
       "      <td>57</td>\n",
       "      <td>0</td>\n",
       "      <td>808.96</td>\n",
       "      <td>0</td>\n",
       "      <td>3</td>\n",
       "      <td>Mid-Value</td>\n",
       "    </tr>\n",
       "    <tr>\n",
       "      <th>3</th>\n",
       "      <td>18075.0</td>\n",
       "      <td>12</td>\n",
       "      <td>3</td>\n",
       "      <td>35</td>\n",
       "      <td>0</td>\n",
       "      <td>638.12</td>\n",
       "      <td>0</td>\n",
       "      <td>3</td>\n",
       "      <td>Mid-Value</td>\n",
       "    </tr>\n",
       "    <tr>\n",
       "      <th>4</th>\n",
       "      <td>15241.0</td>\n",
       "      <td>0</td>\n",
       "      <td>3</td>\n",
       "      <td>64</td>\n",
       "      <td>0</td>\n",
       "      <td>947.55</td>\n",
       "      <td>0</td>\n",
       "      <td>3</td>\n",
       "      <td>Mid-Value</td>\n",
       "    </tr>\n",
       "  </tbody>\n",
       "</table>\n",
       "</div>"
      ],
      "text/plain": [
       "   CustomerID  Recency  RecencyCluster  Frequency  FrequencyCluster  Monetary  \\\n",
       "0     14620.0       12               3         30                 0    393.28   \n",
       "1     15194.0        6               3         64                 0   1439.02   \n",
       "2     18044.0        5               3         57                 0    808.96   \n",
       "3     18075.0       12               3         35                 0    638.12   \n",
       "4     15241.0        0               3         64                 0    947.55   \n",
       "\n",
       "   RevenueCluster  OverallScore    Segment  \n",
       "0               0             3  Mid-Value  \n",
       "1               0             3  Mid-Value  \n",
       "2               0             3  Mid-Value  \n",
       "3               0             3  Mid-Value  \n",
       "4               0             3  Mid-Value  "
      ]
     },
     "execution_count": 30,
     "metadata": {},
     "output_type": "execute_result"
    }
   ],
   "source": [
    "######################### >>>> Calculate recency score <<<<\n",
    "\n",
    "# Get the max purchase date for each customer \n",
    "df_max_purchase = df_3m.groupby('CustomerID').InvoiceDate.max().reset_index()\n",
    "df_max_purchase.columns = ['CustomerID', 'MaxPurchaseDate']\n",
    "\n",
    "# The max purchase date is the observation point\n",
    "df_max_purchase['Recency'] = (df_max_purchase['MaxPurchaseDate'].max() - df_max_purchase['MaxPurchaseDate']).dt.days\n",
    "\n",
    "# Merge with df_user_new\n",
    "df_user_new = pd.merge(df_user_new, df_max_purchase[['CustomerID','Recency']], on='CustomerID')\n",
    "\n",
    "# k-means\n",
    "kmeans = KMeans(n_clusters=4)\n",
    "kmeans.fit(df_user_new[['Recency']])\n",
    "df_user_new['RecencyCluster'] = kmeans.predict(df_user_new[['Recency']])\n",
    "df_user_new = order_cluster('RecencyCluster', 'Recency',df_user_new,False)\n",
    "\n",
    "######################### >>>> Calcuate frequency score <<<<\n",
    "df_frequency = df_3m.groupby('CustomerID').InvoiceDate.count().reset_index()\n",
    "df_frequency.columns = ['CustomerID','Frequency']\n",
    "df_user_new = pd.merge(df_user_new, df_frequency, on='CustomerID')\n",
    "\n",
    "# k-means\n",
    "kmeans = KMeans(n_clusters=4)\n",
    "kmeans.fit(df_user_new[['Frequency']])\n",
    "df_user_new['FrequencyCluster'] = kmeans.predict(df_user_new[['Frequency']])\n",
    "df_user_new = order_cluster('FrequencyCluster', 'Frequency',df_user_new,True)\n",
    "\n",
    "######################### >>>> Calcuate revenue score <<<<\n",
    "df_revenue = df_3m.groupby('CustomerID').Revenue.sum().reset_index()\n",
    "df_user_new = pd.merge(df_user_new, df_revenue, on='CustomerID')\n",
    "\n",
    "kmeans = KMeans(n_clusters=4)\n",
    "kmeans.fit(df_user_new[['Revenue']])\n",
    "df_user_new['RevenueCluster'] = kmeans.predict(df_user_new[['Revenue']])\n",
    "df_user_new = order_cluster('RevenueCluster', 'Revenue',df_user_new,True)\n",
    "\n",
    "\n",
    "######################### >>>> Overall scoring\n",
    "# Renaming columns\n",
    "df_user_new.columns = ['CustomerID', 'Recency', 'RecencyCluster', 'Frequency', 'FrequencyCluster', 'Monetary', 'RevenueCluster']\n",
    "df_user_new['OverallScore'] = df_user_new['RecencyCluster'] + df_user_new['FrequencyCluster'] + df_user_new['RevenueCluster']\n",
    "df_user_new['Segment'] = 'Low-Value'\n",
    "df_user_new.loc[df_user_new['OverallScore']>2,'Segment'] = 'Mid-Value' \n",
    "df_user_new.loc[df_user_new['OverallScore']>4,'Segment'] = 'High-Value' \n",
    "\n",
    "df_user_new.head()"
   ]
  },
  {
   "cell_type": "markdown",
   "metadata": {},
   "source": [
    "### Calculate 6 months LTV for each customer which are going to be used for training our model.\n",
    "\n",
    "Because we don't have the costs the LVT will be the Revenue itself."
   ]
  },
  {
   "cell_type": "code",
   "execution_count": 31,
   "metadata": {},
   "outputs": [],
   "source": [
    "# calculate revenue 6 months (LTV)\n",
    "df_user_6m = df_6m.groupby('CustomerID').Revenue.sum().reset_index()\n",
    "df_user_6m.columns = ['CustomerID','6m_Revenue']"
   ]
  },
  {
   "cell_type": "markdown",
   "metadata": {},
   "source": [
    "Next step is to merge our 3 months and 6 months dataframes to see correlations between LTV and the feature set we have."
   ]
  },
  {
   "cell_type": "code",
   "execution_count": 32,
   "metadata": {},
   "outputs": [
    {
     "data": {
      "text/html": [
       "<div>\n",
       "<style scoped>\n",
       "    .dataframe tbody tr th:only-of-type {\n",
       "        vertical-align: middle;\n",
       "    }\n",
       "\n",
       "    .dataframe tbody tr th {\n",
       "        vertical-align: top;\n",
       "    }\n",
       "\n",
       "    .dataframe thead th {\n",
       "        text-align: right;\n",
       "    }\n",
       "</style>\n",
       "<table border=\"1\" class=\"dataframe\">\n",
       "  <thead>\n",
       "    <tr style=\"text-align: right;\">\n",
       "      <th></th>\n",
       "      <th>CustomerID</th>\n",
       "      <th>Recency</th>\n",
       "      <th>RecencyCluster</th>\n",
       "      <th>Frequency</th>\n",
       "      <th>FrequencyCluster</th>\n",
       "      <th>Monetary</th>\n",
       "      <th>RevenueCluster</th>\n",
       "      <th>OverallScore</th>\n",
       "      <th>Segment</th>\n",
       "      <th>6m_Revenue</th>\n",
       "    </tr>\n",
       "  </thead>\n",
       "  <tbody>\n",
       "    <tr>\n",
       "      <th>0</th>\n",
       "      <td>14620.0</td>\n",
       "      <td>12</td>\n",
       "      <td>3</td>\n",
       "      <td>30</td>\n",
       "      <td>0</td>\n",
       "      <td>393.28</td>\n",
       "      <td>0</td>\n",
       "      <td>3</td>\n",
       "      <td>Mid-Value</td>\n",
       "      <td>0.00</td>\n",
       "    </tr>\n",
       "    <tr>\n",
       "      <th>1</th>\n",
       "      <td>15194.0</td>\n",
       "      <td>6</td>\n",
       "      <td>3</td>\n",
       "      <td>64</td>\n",
       "      <td>0</td>\n",
       "      <td>1439.02</td>\n",
       "      <td>0</td>\n",
       "      <td>3</td>\n",
       "      <td>Mid-Value</td>\n",
       "      <td>3232.20</td>\n",
       "    </tr>\n",
       "    <tr>\n",
       "      <th>2</th>\n",
       "      <td>18044.0</td>\n",
       "      <td>5</td>\n",
       "      <td>3</td>\n",
       "      <td>57</td>\n",
       "      <td>0</td>\n",
       "      <td>808.96</td>\n",
       "      <td>0</td>\n",
       "      <td>3</td>\n",
       "      <td>Mid-Value</td>\n",
       "      <td>991.54</td>\n",
       "    </tr>\n",
       "    <tr>\n",
       "      <th>3</th>\n",
       "      <td>18075.0</td>\n",
       "      <td>12</td>\n",
       "      <td>3</td>\n",
       "      <td>35</td>\n",
       "      <td>0</td>\n",
       "      <td>638.12</td>\n",
       "      <td>0</td>\n",
       "      <td>3</td>\n",
       "      <td>Mid-Value</td>\n",
       "      <td>1322.75</td>\n",
       "    </tr>\n",
       "    <tr>\n",
       "      <th>4</th>\n",
       "      <td>15241.0</td>\n",
       "      <td>0</td>\n",
       "      <td>3</td>\n",
       "      <td>64</td>\n",
       "      <td>0</td>\n",
       "      <td>947.55</td>\n",
       "      <td>0</td>\n",
       "      <td>3</td>\n",
       "      <td>Mid-Value</td>\n",
       "      <td>791.04</td>\n",
       "    </tr>\n",
       "  </tbody>\n",
       "</table>\n",
       "</div>"
      ],
      "text/plain": [
       "   CustomerID  Recency  RecencyCluster  Frequency  FrequencyCluster  Monetary  \\\n",
       "0     14620.0       12               3         30                 0    393.28   \n",
       "1     15194.0        6               3         64                 0   1439.02   \n",
       "2     18044.0        5               3         57                 0    808.96   \n",
       "3     18075.0       12               3         35                 0    638.12   \n",
       "4     15241.0        0               3         64                 0    947.55   \n",
       "\n",
       "   RevenueCluster  OverallScore    Segment  6m_Revenue  \n",
       "0               0             3  Mid-Value        0.00  \n",
       "1               0             3  Mid-Value     3232.20  \n",
       "2               0             3  Mid-Value      991.54  \n",
       "3               0             3  Mid-Value     1322.75  \n",
       "4               0             3  Mid-Value      791.04  "
      ]
     },
     "execution_count": 32,
     "metadata": {},
     "output_type": "execute_result"
    }
   ],
   "source": [
    "df_merge = pd.merge(df_user_new, df_user_6m, on='CustomerID', how='left')\n",
    "df_merge = df_merge.fillna(0)\n",
    "df_merge.head()"
   ]
  },
  {
   "cell_type": "code",
   "execution_count": 33,
   "metadata": {},
   "outputs": [
    {
     "data": {
      "image/png": "[encoded data removed]",
      "text/plain": [
       "<Figure size 1080x432 with 1 Axes>"
      ]
     },
     "metadata": {},
     "output_type": "display_data"
    }
   ],
   "source": [
    "# Plotting the distribution of Clusters\n",
    "cust_graph = df_merge[df_merge['6m_Revenue']<30000]\n",
    "\n",
    "sns.set(palette='muted', color_codes=True, style='white')\n",
    "sns.set_style(\"ticks\", {\"xtick.major.size\": 8, \"ytick.major.size\": 8})\n",
    "plt.figure(figsize=(15, 6))\n",
    "sns.stripplot(x='OverallScore', y='6m_Revenue', hue='Segment', jitter=False, data=cust_graph, palette=[\"b\", \"r\", \"#3bc57fff\"])\n",
    "plt.ylabel('LTV', fontsize = 14)\n",
    "plt.xlabel('RFM Score', fontsize = 14)\n",
    "plt.suptitle('LTV Vs Overall RFM Score', fontweight = 600, size=18)\n",
    "plt.subplots_adjust(wspace=0.3, hspace=3, top=.9)\n",
    "sns.despine()\n",
    "\n",
    "# Savinf fig\n",
    "#fig3 = plt.gcf()\n",
    "#plt.show()\n",
    "#plt.draw()\n",
    "#fig3.savefig('ltv_cust.png', dpi=500)"
   ]
  },
  {
   "cell_type": "markdown",
   "metadata": {},
   "source": [
    "Positive correlation is quite visible here. High RFM score means high LTV."
   ]
  },
  {
   "cell_type": "markdown",
   "metadata": {},
   "source": [
    "### Apply clustering for 3 segments (number of segments depends on business goals): Low-LTV, Mid-LTV, High-LTV"
   ]
  },
  {
   "cell_type": "code",
   "execution_count": 34,
   "metadata": {},
   "outputs": [
    {
     "data": {
      "text/html": [
       "<div>\n",
       "<style scoped>\n",
       "    .dataframe tbody tr th:only-of-type {\n",
       "        vertical-align: middle;\n",
       "    }\n",
       "\n",
       "    .dataframe tbody tr th {\n",
       "        vertical-align: top;\n",
       "    }\n",
       "\n",
       "    .dataframe thead th {\n",
       "        text-align: right;\n",
       "    }\n",
       "</style>\n",
       "<table border=\"1\" class=\"dataframe\">\n",
       "  <thead>\n",
       "    <tr style=\"text-align: right;\">\n",
       "      <th></th>\n",
       "      <th>count</th>\n",
       "      <th>mean</th>\n",
       "      <th>std</th>\n",
       "      <th>min</th>\n",
       "      <th>25%</th>\n",
       "      <th>50%</th>\n",
       "      <th>75%</th>\n",
       "      <th>max</th>\n",
       "    </tr>\n",
       "    <tr>\n",
       "      <th>LTVCluster</th>\n",
       "      <th></th>\n",
       "      <th></th>\n",
       "      <th></th>\n",
       "      <th></th>\n",
       "      <th></th>\n",
       "      <th></th>\n",
       "      <th></th>\n",
       "      <th></th>\n",
       "    </tr>\n",
       "  </thead>\n",
       "  <tbody>\n",
       "    <tr>\n",
       "      <th>0</th>\n",
       "      <td>1394.0</td>\n",
       "      <td>396.137189</td>\n",
       "      <td>419.891843</td>\n",
       "      <td>-609.40</td>\n",
       "      <td>0.000</td>\n",
       "      <td>294.220</td>\n",
       "      <td>682.4300</td>\n",
       "      <td>1429.87</td>\n",
       "    </tr>\n",
       "    <tr>\n",
       "      <th>1</th>\n",
       "      <td>371.0</td>\n",
       "      <td>2492.794933</td>\n",
       "      <td>937.341566</td>\n",
       "      <td>1445.31</td>\n",
       "      <td>1731.980</td>\n",
       "      <td>2162.930</td>\n",
       "      <td>3041.9550</td>\n",
       "      <td>5287.39</td>\n",
       "    </tr>\n",
       "    <tr>\n",
       "      <th>2</th>\n",
       "      <td>56.0</td>\n",
       "      <td>8222.565893</td>\n",
       "      <td>2983.572030</td>\n",
       "      <td>5396.44</td>\n",
       "      <td>6151.435</td>\n",
       "      <td>6986.545</td>\n",
       "      <td>9607.3225</td>\n",
       "      <td>16756.31</td>\n",
       "    </tr>\n",
       "  </tbody>\n",
       "</table>\n",
       "</div>"
      ],
      "text/plain": [
       "             count         mean          std      min       25%       50%  \\\n",
       "LTVCluster                                                                  \n",
       "0           1394.0   396.137189   419.891843  -609.40     0.000   294.220   \n",
       "1            371.0  2492.794933   937.341566  1445.31  1731.980  2162.930   \n",
       "2             56.0  8222.565893  2983.572030  5396.44  6151.435  6986.545   \n",
       "\n",
       "                  75%       max  \n",
       "LTVCluster                       \n",
       "0            682.4300   1429.87  \n",
       "1           3041.9550   5287.39  \n",
       "2           9607.3225  16756.31  "
      ]
     },
     "execution_count": 34,
     "metadata": {},
     "output_type": "execute_result"
    }
   ],
   "source": [
    "# Remove outliers\n",
    "df_merge = df_merge[df_merge['6m_Revenue']<df_merge['6m_Revenue'].quantile(0.99)]\n",
    "\n",
    "# Creating 3 clusters\n",
    "kmeans = KMeans(n_clusters=3)\n",
    "kmeans.fit(df_merge[['6m_Revenue']])\n",
    "df_merge['LTVCluster'] = kmeans.predict(df_merge[['6m_Revenue']])\n",
    "\n",
    "# Ordering cluster number based on LTV\n",
    "df_merge = order_cluster('LTVCluster', '6m_Revenue',df_merge,True)\n",
    "\n",
    "# Creating a new cluster df\n",
    "df_cluster = df_merge.copy()\n",
    "\n",
    "# Display details of the clusters\n",
    "df_cluster.groupby('LTVCluster')['6m_Revenue'].describe()"
   ]
  },
  {
   "cell_type": "markdown",
   "metadata": {},
   "source": [
    "2 is the best with average 323 LTV whereas 0 is the worst."
   ]
  },
  {
   "cell_type": "markdown",
   "metadata": {},
   "source": [
    "## Feature Engineering"
   ]
  },
  {
   "cell_type": "markdown",
   "metadata": {},
   "source": [
    "#### Steps before training the machine learning model:\n",
    "\n",
    "#### Feature engineering: convert categorical columns to numerical columns.\n",
    "#### Check the correlation of features against the target/label, LTV clusters.\n",
    "#### Split feature set and target/label (LTV) as X and y.\n",
    "#### Create Training and Test dataset."
   ]
  },
  {
   "cell_type": "code",
   "execution_count": 35,
   "metadata": {},
   "outputs": [
    {
     "data": {
      "image/png": "[encoded data removed]",
      "text/plain": [
       "<Figure size 864x432 with 2 Axes>"
      ]
     },
     "metadata": {},
     "output_type": "display_data"
    }
   ],
   "source": [
    "# Check for any multicollinearity between the numerical variables. \n",
    "sns.set(palette='muted', color_codes=True, style='whitegrid',font_scale=1)\n",
    "plt.figure(figsize=(12, 6))\n",
    "corr_matrix = df_cluster.corr()\n",
    "sns.heatmap(corr_matrix, annot=True, square=True, cmap='Greens')\n",
    "plt.suptitle('Correlation Matrix', fontweight = 600, fontsize = 18)\n",
    "plt.show()\n"
   ]
  },
  {
   "cell_type": "code",
   "execution_count": 36,
   "metadata": {},
   "outputs": [],
   "source": [
    "# Convert categorical columns to numerical\n",
    "#convert categorical columns to numerical\n",
    "df_cluster = pd.get_dummies(df_cluster)"
   ]
  },
  {
   "cell_type": "code",
   "execution_count": 37,
   "metadata": {},
   "outputs": [
    {
     "data": {
      "text/plain": [
       "LTVCluster          1.000000\n",
       "6m_Revenue          0.845933\n",
       "Monetary            0.600491\n",
       "RevenueCluster      0.467191\n",
       "OverallScore        0.373114\n",
       "FrequencyCluster    0.366366\n",
       "Frequency           0.359601\n",
       "RecencyCluster      0.236899\n",
       "CustomerID         -0.028401\n",
       "Recency            -0.237249\n",
       "Name: LTVCluster, dtype: float64"
      ]
     },
     "execution_count": 37,
     "metadata": {},
     "output_type": "execute_result"
    }
   ],
   "source": [
    "corr_matrix['LTVCluster'].sort_values(ascending=False)"
   ]
  },
  {
   "cell_type": "code",
   "execution_count": 38,
   "metadata": {},
   "outputs": [
    {
     "data": {
      "text/plain": [
       "0    1394\n",
       "1     371\n",
       "2      56\n",
       "Name: LTVCluster, dtype: int64"
      ]
     },
     "execution_count": 38,
     "metadata": {},
     "output_type": "execute_result"
    }
   ],
   "source": [
    "df_cluster['LTVCluster'].value_counts()"
   ]
  },
  {
   "cell_type": "code",
   "execution_count": 39,
   "metadata": {},
   "outputs": [],
   "source": [
    "# Create X and y, X will be feature set and y is the label - LTV\n",
    "X = df_cluster.drop(['LTVCluster','6m_Revenue'],axis=1)\n",
    "y = df_cluster['LTVCluster']\n",
    "\n",
    "data_dmatrix = xgb.DMatrix(data=X,label=y)\n",
    "\n",
    "# Train test split\n",
    "X_train, X_test, y_train, y_test = train_test_split(X, y, test_size=0.2, random_state=42)"
   ]
  },
  {
   "cell_type": "code",
   "execution_count": 40,
   "metadata": {},
   "outputs": [
    {
     "name": "stdout",
     "output_type": "stream",
     "text": [
      "Class=0, n=1394 (76.551%)\n",
      "Class=1, n=371 (20.373%)\n",
      "Class=2, n=56 (3.075%)\n"
     ]
    },
    {
     "data": {
      "image/png": "[encoded data removed]",
      "text/plain": [
       "<Figure size 432x288 with 1 Axes>"
      ]
     },
     "metadata": {},
     "output_type": "display_data"
    }
   ],
   "source": [
    "from collections import Counter\n",
    "# summarize distribution\n",
    "counter = Counter(y)\n",
    "for k,v in counter.items():\n",
    "\tper = v / len(y) * 100\n",
    "\tprint('Class=%d, n=%d (%.3f%%)' % (k, v, per))\n",
    "# plot the distribution\n",
    "sns.set(palette='muted', color_codes=True, style='white')\n",
    "plt.bar(counter.keys(), counter.values(), color='r')\n",
    "plt.grid(b=None)\n",
    "plt.ylabel('Count', fontsize = 12)\n",
    "plt.title('Class Distribution', fontweight = 600, fontsize = 14)\n",
    "\n",
    "plt.grid(b=None)\n",
    "sns.despine()\n",
    "# Savinf fig\n",
    "#fig4 = plt.gcf()\n",
    "#plt.show()\n",
    "#plt.draw()\n",
    "#fig4.savefig('class1.png', dpi=500)"
   ]
  },
  {
   "cell_type": "markdown",
   "metadata": {},
   "source": [
    "### Generate synthetic samples SMOTE or Synthetic Minority Oversampling Technique\n",
    "\n",
    "SMOTE uses a nearest neighbors algorithm to generate new and synthetic data we can use for training our model.\n",
    "\n",
    "It’s important to generate the new samples only in the training set to ensure our model generalizes well to unseen data.\n",
    "\n",
    "Source: https://towardsdatascience.com/methods-for-dealing-with-imbalanced-data-5b761be45a18"
   ]
  },
  {
   "cell_type": "code",
   "execution_count": 41,
   "metadata": {},
   "outputs": [
    {
     "name": "stdout",
     "output_type": "stream",
     "text": [
      "Class=0, n=1394 (33.333%)\n",
      "Class=1, n=1394 (33.333%)\n",
      "Class=2, n=1394 (33.333%)\n"
     ]
    },
    {
     "data": {
      "image/png": "[encoded data removed]",
      "text/plain": [
       "<Figure size 432x288 with 1 Axes>"
      ]
     },
     "metadata": {},
     "output_type": "display_data"
    }
   ],
   "source": [
    "from imblearn.over_sampling import SMOTE\n",
    "# transform the dataset\n",
    "oversample = SMOTE()\n",
    "X, y = oversample.fit_resample(X, y)\n",
    "# summarize distribution\n",
    "counter = Counter(y)\n",
    "for k,v in counter.items():\n",
    "\tper = v / len(y) * 100\n",
    "\tprint('Class=%d, n=%d (%.3f%%)' % (k, v, per))\n",
    "\n",
    "# plot the distribution\n",
    "sns.set(palette='muted', color_codes=True, style='white')\n",
    "plt.bar(counter.keys(), counter.values(), color='#3bc57fff')\n",
    "plt.grid(b=None)\n",
    "plt.ylabel('Count', fontsize = 12)\n",
    "plt.xlabel('Class', fontsize = 12)\n",
    "plt.title('Class Distribution', fontweight = 600, fontsize = 14)\n",
    "sns.despine()\n",
    "plt.grid(b=None)\n",
    "sns.despine()\n",
    "# Savinf fig\n",
    "#fig5 = plt.gcf()\n",
    "#plt.show()\n",
    "#plt.draw()\n",
    "#fig5.savefig('class2.png', dpi=500)"
   ]
  },
  {
   "cell_type": "code",
   "execution_count": 42,
   "metadata": {},
   "outputs": [],
   "source": [
    "# Train test split\n",
    "X_train, X_test, y_train, y_test = train_test_split(X, y, test_size=0.2, random_state=42)"
   ]
  },
  {
   "cell_type": "markdown",
   "metadata": {},
   "source": [
    "## XGBoost Model"
   ]
  },
  {
   "cell_type": "code",
   "execution_count": 43,
   "metadata": {},
   "outputs": [
    {
     "name": "stdout",
     "output_type": "stream",
     "text": [
      "Accuracy of XGB classifier on training set: 0.92\n",
      "Accuracy of XGB classifier on test set: 0.86\n",
      "\n",
      "\n",
      "              precision    recall  f1-score   support\n",
      "\n",
      "           0       0.87      0.82      0.84       311\n",
      "           1       0.79      0.81      0.80       261\n",
      "           2       0.93      0.97      0.95       265\n",
      "\n",
      "    accuracy                           0.86       837\n",
      "   macro avg       0.86      0.87      0.86       837\n",
      "weighted avg       0.86      0.86      0.86       837\n",
      "\n"
     ]
    },
    {
     "data": {
      "image/png": "[encoded data removed]",
      "text/plain": [
       "<Figure size 432x288 with 2 Axes>"
      ]
     },
     "metadata": {},
     "output_type": "display_data"
    },
    {
     "data": {
      "text/plain": [
       "<Figure size 1296x432 with 0 Axes>"
      ]
     },
     "metadata": {},
     "output_type": "display_data"
    }
   ],
   "source": [
    "#XGBoost Multiclassification Model\n",
    "ltv_xgb_model = xgb.XGBClassifier(max_depth=5, learning_rate=0.1, objective = 'multi:softprob', verbosity=0).fit(X_train, y_train)\n",
    "\n",
    "print('Accuracy of XGB classifier on training set: {:.2f}'\n",
    "       .format(ltv_xgb_model.score(X_train, y_train)))\n",
    "print('Accuracy of XGB classifier on test set: {:.2f}'\n",
    "       .format(ltv_xgb_model.score(X_test[X_train.columns], y_test)))\n",
    "\n",
    "y_pred = ltv_xgb_model.predict(X_test)\n",
    "\n",
    "\n",
    "#Get the confusion matrix\n",
    "cf_matrix = confusion_matrix(y_test, y_pred)\n",
    "heat= sns.heatmap(cf_matrix/np.sum(cf_matrix), annot=True, \n",
    "            fmt='.2%', cmap='Greens')\n",
    "plt.figure(figsize=(18, 6))\n",
    "\n",
    "\n",
    "# Savinf fig\n",
    "\n",
    "#figure = heat.get_figure()    \n",
    "#figure.savefig('corr_before.png', dpi=500)\n",
    "\n",
    "print('\\n')\n",
    "print(classification_report(y_test, y_pred))"
   ]
  },
  {
   "cell_type": "code",
   "execution_count": 44,
   "metadata": {},
   "outputs": [
    {
     "name": "stdout",
     "output_type": "stream",
     "text": [
      "RMSE: 0.401610\n"
     ]
    }
   ],
   "source": [
    "# Compute the rmse by invoking the mean_sqaured_error function from sklearn's metrics module.\n",
    "rmse = np.sqrt(mean_squared_error(y_test, y_pred))\n",
    "print('RMSE: %f' % (rmse))"
   ]
  },
  {
   "cell_type": "code",
   "execution_count": 45,
   "metadata": {},
   "outputs": [
    {
     "data": {
      "text/html": [
       "<div>\n",
       "<style scoped>\n",
       "    .dataframe tbody tr th:only-of-type {\n",
       "        vertical-align: middle;\n",
       "    }\n",
       "\n",
       "    .dataframe tbody tr th {\n",
       "        vertical-align: top;\n",
       "    }\n",
       "\n",
       "    .dataframe thead th {\n",
       "        text-align: right;\n",
       "    }\n",
       "</style>\n",
       "<table border=\"1\" class=\"dataframe\">\n",
       "  <thead>\n",
       "    <tr style=\"text-align: right;\">\n",
       "      <th></th>\n",
       "      <th>train-rmse-mean</th>\n",
       "      <th>train-rmse-std</th>\n",
       "      <th>test-rmse-mean</th>\n",
       "      <th>test-rmse-std</th>\n",
       "    </tr>\n",
       "  </thead>\n",
       "  <tbody>\n",
       "    <tr>\n",
       "      <th>0</th>\n",
       "      <td>0.532201</td>\n",
       "      <td>0.000909</td>\n",
       "      <td>0.533310</td>\n",
       "      <td>0.001145</td>\n",
       "    </tr>\n",
       "    <tr>\n",
       "      <th>1</th>\n",
       "      <td>0.514865</td>\n",
       "      <td>0.004173</td>\n",
       "      <td>0.516285</td>\n",
       "      <td>0.003007</td>\n",
       "    </tr>\n",
       "    <tr>\n",
       "      <th>2</th>\n",
       "      <td>0.499382</td>\n",
       "      <td>0.005162</td>\n",
       "      <td>0.501316</td>\n",
       "      <td>0.002297</td>\n",
       "    </tr>\n",
       "    <tr>\n",
       "      <th>3</th>\n",
       "      <td>0.487926</td>\n",
       "      <td>0.005612</td>\n",
       "      <td>0.490300</td>\n",
       "      <td>0.002796</td>\n",
       "    </tr>\n",
       "    <tr>\n",
       "      <th>4</th>\n",
       "      <td>0.475840</td>\n",
       "      <td>0.002640</td>\n",
       "      <td>0.479306</td>\n",
       "      <td>0.001408</td>\n",
       "    </tr>\n",
       "  </tbody>\n",
       "</table>\n",
       "</div>"
      ],
      "text/plain": [
       "   train-rmse-mean  train-rmse-std  test-rmse-mean  test-rmse-std\n",
       "0         0.532201        0.000909        0.533310       0.001145\n",
       "1         0.514865        0.004173        0.516285       0.003007\n",
       "2         0.499382        0.005162        0.501316       0.002297\n",
       "3         0.487926        0.005612        0.490300       0.002796\n",
       "4         0.475840        0.002640        0.479306       0.001408"
      ]
     },
     "execution_count": 45,
     "metadata": {},
     "output_type": "execute_result"
    }
   ],
   "source": [
    "# k-fold Cross Validation using XGBoost\n",
    "\n",
    "params = {\"objective\":\"reg:linear\",'colsample_bytree': 0.3,'learning_rate': 0.1,\n",
    "                'max_depth': 5, 'alpha': 10}\n",
    "\n",
    "cv_results = xgb.cv(dtrain=data_dmatrix, params=params, nfold=3,\n",
    "                    num_boost_round=50,early_stopping_rounds=10, metrics= 'rmse', as_pandas=True, seed=123)\n",
    "\n",
    "# cv_results contains train and test RMSE metrics for each boosting round.\n",
    "cv_results.head()"
   ]
  },
  {
   "cell_type": "code",
   "execution_count": 46,
   "metadata": {},
   "outputs": [
    {
     "name": "stdout",
     "output_type": "stream",
     "text": [
      "49    0.396559\n",
      "Name: test-rmse-mean, dtype: float64\n"
     ]
    }
   ],
   "source": [
    "# Extract and print the final boosting round metric.\n",
    "print((cv_results[\"test-rmse-mean\"]).tail(1))"
   ]
  },
  {
   "cell_type": "markdown",
   "metadata": {},
   "source": [
    "## Visualize Feature Importance\n",
    "\n",
    "#### Examine the importance of each feature column in the original dataset within the model"
   ]
  },
  {
   "cell_type": "code",
   "execution_count": 47,
   "metadata": {},
   "outputs": [
    {
     "data": {
      "image/png": "[encoded data removed]",
      "text/plain": [
       "<Figure size 720x576 with 1 Axes>"
      ]
     },
     "metadata": {},
     "output_type": "display_data"
    }
   ],
   "source": [
    "# Getting feature importance\n",
    "from xgboost import plot_importance\n",
    "fig, ax = plt.subplots(figsize=(10,8))\n",
    "sns.set(palette='muted', color_codes=True, style='white')\n",
    "sns.set_style(\"ticks\", {\"xtick.major.size\": 8, \"ytick.major.size\": 8})\n",
    "plot_importance(ltv_xgb_model, ax=ax, color='#3bc57fff', height=0.45)\n",
    "plt.title('', fontweight = 600, fontsize = 20)\n",
    "plt.yticks(fontsize = 12)\n",
    "plt.ylabel('Features', fontsize = 14)\n",
    "plt.xlabel('F Score', fontsize = 14)\n",
    "plt.grid(b=None)\n",
    "sns.despine()\n",
    "\n",
    "# Savinf fig\n",
    "#fig8 = plt.gcf()\n",
    "#plt.show()\n",
    "#plt.draw()\n",
    "#fig8.savefig('importance.png', dpi=500, bbox_inches = \"tight\")"
   ]
  },
  {
   "cell_type": "markdown",
   "metadata": {},
   "source": [
    "## LogisticRegression Model"
   ]
  },
  {
   "cell_type": "code",
   "execution_count": 48,
   "metadata": {},
   "outputs": [
    {
     "name": "stdout",
     "output_type": "stream",
     "text": [
      "Accuracy of LogisticRegression on training set: 0.74\n",
      "Accuracy of LogisticRegression on test set: 0.76\n"
     ]
    },
    {
     "data": {
      "image/png": "[encoded data removed]",
      "text/plain": [
       "<Figure size 432x288 with 2 Axes>"
      ]
     },
     "metadata": {},
     "output_type": "display_data"
    },
    {
     "name": "stdout",
     "output_type": "stream",
     "text": [
      "              precision    recall  f1-score   support\n",
      "\n",
      "           0       0.77      0.80      0.78       311\n",
      "           1       0.65      0.61      0.63       261\n",
      "           2       0.85      0.86      0.86       265\n",
      "\n",
      "    accuracy                           0.76       837\n",
      "   macro avg       0.75      0.76      0.75       837\n",
      "weighted avg       0.76      0.76      0.76       837\n",
      "\n"
     ]
    }
   ],
   "source": [
    "from sklearn.linear_model import LogisticRegression \n",
    "\n",
    "logreg = LogisticRegression(random_state=0, multi_class='multinomial').fit(X_train, y_train)\n",
    "\n",
    "# Predict the response for test dataset\n",
    "logreg_pred = logreg.predict(X_test)\n",
    "pd.DataFrame({'test':y_test, 'predicted':logreg_pred})\n",
    "\n",
    "print('Accuracy of LogisticRegression on training set: {:.2f}'\n",
    "       .format(logreg.score(X_train, y_train)))\n",
    "print('Accuracy of LogisticRegression on test set: {:.2f}'\n",
    "       .format(logreg.score(X_test, y_test)))\n",
    "\n",
    "#Get the confusion matrix\n",
    "cf_matrix = confusion_matrix(y_test, logreg_pred)\n",
    "sns.heatmap(cf_matrix/np.sum(cf_matrix), annot=True, \n",
    "            fmt='.2%', cmap='Greens')\n",
    "plt.show()\n",
    "\n",
    "# Classification Report\n",
    "from sklearn.metrics import classification_report\n",
    "print(classification_report(y_test, logreg_pred))"
   ]
  },
  {
   "cell_type": "code",
   "execution_count": null,
   "metadata": {},
   "outputs": [],
   "source": []
  }
 ],
 "metadata": {
  "kernelspec": {
   "display_name": "Python 3",
   "language": "python",
   "name": "python3"
  },
  "language_info": {
   "codemirror_mode": {
    "name": "ipython",
    "version": 3
   },
   "file_extension": ".py",
   "mimetype": "text/x-python",
   "name": "python",
   "nbconvert_exporter": "python",
   "pygments_lexer": "ipython3",
   "version": "3.9.1"
  }
 },
 "nbformat": 4,
 "nbformat_minor": 4
}
